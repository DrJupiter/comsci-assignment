{
 "cells": [
  {
   "cell_type": "markdown",
   "id": "b2f48e99",
   "metadata": {},
   "source": [
    "# Part 2: Sentiment analysis\n"
   ]
  },
  {
   "cell_type": "markdown",
   "id": "a1facb85",
   "metadata": {},
   "source": [
    "_Exercise: Creating Word Shifts_\n",
    ">    1. Pick a day of your choice in 2020. We call it $d$. It is more interesting if you pick a day where you expect something relevant to occur (e.g. Christmas, New Year, Corona starting, the market crashes...).\n",
    ">    2. Build two lists $l$ and $l_{ref}$ containing all tokens for submissions posted on r/wallstreebets on day $d$, and in the 7 days preceding day $d$, respectively. \n",
    ">    3. For each token $i$, compute the relative frequency in the two lists $l$ and $l_{ref}$. We call them $p(i,l)$ and $p(i,l_{ref})$, respectively. The relative frequency is computed as the number of times a token occurs over the total length of the document. Store the result in a dictionary.\n",
    ">    4. For each token $i$, compute the difference in relative frequency $\\delta p(i) = p(i,l) - p(i,l_{ref})$. Store the values in a dictionary. Print the top 10 tokens (those with largest relative frequency). Do you notice anything interesting?\n",
    ">    5. Now, for each token, compute the happiness $h(i) = labMT(i) - 5$, using the labMT dictionary. Here, we subtract $5$, so that positive tokens will have a positive value and negative tokens will have a negative value. Then, compute the product $\\delta \\Phi = h(i)\\cdot \\delta p(i)$. Store the results in a dictionary. \n",
    ">    6. Print the top 10 tokens, ordered by the absolute value of $|\\delta \\Phi|$. Explain in your own words the meaning of $\\delta \\Phi$. If that is unclear, have a look at [this page](https://shifterator.readthedocs.io/en/latest/cookbook/weighted_avg_shifts.html).\n",
    ">    7. Now install the [``shifterator``](https://shifterator.readthedocs.io/en/latest/installation.html) Python package. We will use it for plotting Word Shifts. \n",
    ">    8. Use the function ``shifterator.WeightedAvgShift`` to plot the WordShift, showing which words contributed the most to make your day of choice _d_ happier or more sad then days in the preceding 7 days. Comment on the figure. \n",
    ">    9. How do words that you printed in step 6 relate to those shown by the WordShift? "
   ]
  },
  {
   "cell_type": "code",
   "execution_count": 300,
   "id": "78be3b7a",
   "metadata": {},
   "outputs": [],
   "source": [
    "import nltk, re, pprint\n",
    "from nltk import word_tokenize\n",
    "import numpy as np\n",
    "import pandas as pd\n",
    "import matplotlib.dates as mdate\n",
    "from scipy.stats import pearsonr\n",
    "from scipy import stats\n",
    "import matplotlib.pyplot as plt\n",
    "import re\n",
    "import datetime as datetime\n",
    "\n",
    "data = pd.read_csv(\"wallstreet_subs.csv\", parse_dates = True)"
   ]
  },
  {
   "cell_type": "code",
   "execution_count": 301,
   "id": "3fc8cc41",
   "metadata": {},
   "outputs": [
    {
     "data": {
      "text/html": [
       "<div>\n",
       "<style scoped>\n",
       "    .dataframe tbody tr th:only-of-type {\n",
       "        vertical-align: middle;\n",
       "    }\n",
       "\n",
       "    .dataframe tbody tr th {\n",
       "        vertical-align: top;\n",
       "    }\n",
       "\n",
       "    .dataframe thead th {\n",
       "        text-align: right;\n",
       "    }\n",
       "</style>\n",
       "<table border=\"1\" class=\"dataframe\">\n",
       "  <thead>\n",
       "    <tr style=\"text-align: right;\">\n",
       "      <th></th>\n",
       "      <th>created_utc</th>\n",
       "      <th>title</th>\n",
       "      <th>selftext</th>\n",
       "      <th>score</th>\n",
       "    </tr>\n",
       "  </thead>\n",
       "  <tbody>\n",
       "    <tr>\n",
       "      <th>0</th>\n",
       "      <td>1586173811</td>\n",
       "      <td>What is the Fed actually buying?</td>\n",
       "      <td>Okay, I may actually just be retarded. On my d...</td>\n",
       "      <td>1</td>\n",
       "    </tr>\n",
       "    <tr>\n",
       "      <th>1</th>\n",
       "      <td>1586173320</td>\n",
       "      <td>I didn’t learn about puts because I was lazy</td>\n",
       "      <td>Beginning of the this virus shit, everyone was...</td>\n",
       "      <td>1</td>\n",
       "    </tr>\n",
       "    <tr>\n",
       "      <th>2</th>\n",
       "      <td>1586173268</td>\n",
       "      <td>HOT TAKE</td>\n",
       "      <td>Literally everyone has free time on their hand...</td>\n",
       "      <td>1</td>\n",
       "    </tr>\n",
       "    <tr>\n",
       "      <th>3</th>\n",
       "      <td>1586172639</td>\n",
       "      <td>Fuck you Gordon</td>\n",
       "      <td>Gordon I believed in you, I can't even begin t...</td>\n",
       "      <td>1</td>\n",
       "    </tr>\n",
       "    <tr>\n",
       "      <th>4</th>\n",
       "      <td>1586171822</td>\n",
       "      <td>Can’t find a picture</td>\n",
       "      <td>Someone uploaded a ohoto of the stock market h...</td>\n",
       "      <td>1</td>\n",
       "    </tr>\n",
       "  </tbody>\n",
       "</table>\n",
       "</div>"
      ],
      "text/plain": [
       "   created_utc                                         title  \\\n",
       "0   1586173811              What is the Fed actually buying?   \n",
       "1   1586173320  I didn’t learn about puts because I was lazy   \n",
       "2   1586173268                                      HOT TAKE   \n",
       "3   1586172639                               Fuck you Gordon   \n",
       "4   1586171822                          Can’t find a picture   \n",
       "\n",
       "                                            selftext  score  \n",
       "0  Okay, I may actually just be retarded. On my d...      1  \n",
       "1  Beginning of the this virus shit, everyone was...      1  \n",
       "2  Literally everyone has free time on their hand...      1  \n",
       "3  Gordon I believed in you, I can't even begin t...      1  \n",
       "4  Someone uploaded a ohoto of the stock market h...      1  "
      ]
     },
     "execution_count": 301,
     "metadata": {},
     "output_type": "execute_result"
    }
   ],
   "source": [
    "data.head()"
   ]
  },
  {
   "cell_type": "markdown",
   "id": "cf568182",
   "metadata": {},
   "source": [
    "Combining titles and main text"
   ]
  },
  {
   "cell_type": "code",
   "execution_count": 302,
   "id": "05202268",
   "metadata": {},
   "outputs": [],
   "source": [
    "empty = []\n",
    "for i in range(len(data['title'])):\n",
    "    empty.append(data['title'][i]+' '+data['selftext'][i])\n",
    "data['text'] = empty"
   ]
  },
  {
   "cell_type": "markdown",
   "id": "9187ea5a",
   "metadata": {},
   "source": [
    ">    1. Pick a day of your choice in 2020. We call it $d$. It is more interesting if you pick a day where you expect something relevant to occur (e.g. Christmas, New Year, Corona starting, the market crashes...).\n",
    "\n",
    "We pick November 4rd as d, which is the day after election day of the US presidential election.\n",
    "\n",
    "OR\n",
    "\n",
    "We pick March 13th as d, which is the day the president delcared a state of emergency in the country over the Corona virus"
   ]
  },
  {
   "cell_type": "markdown",
   "id": "3c222e09",
   "metadata": {},
   "source": [
    "# to be written ^"
   ]
  },
  {
   "cell_type": "markdown",
   "id": "f7671205",
   "metadata": {},
   "source": [
    "Converting utc to datetime"
   ]
  },
  {
   "cell_type": "code",
   "execution_count": 303,
   "id": "72bfc10a",
   "metadata": {},
   "outputs": [],
   "source": [
    "data['date'] = [datetime.datetime.fromtimestamp(ts) for ts in data['created_utc']]\n",
    "data['date'] = data['date'].dt.date\n",
    "data['date'] = pd.to_datetime(data['date'])\n"
   ]
  },
  {
   "cell_type": "code",
   "execution_count": 304,
   "id": "3c616cd4",
   "metadata": {},
   "outputs": [],
   "source": [
    "data.set_index('date', inplace = True)"
   ]
  },
  {
   "cell_type": "code",
   "execution_count": 538,
   "id": "bad588a7",
   "metadata": {},
   "outputs": [
    {
     "data": {
      "text/html": [
       "<div>\n",
       "<style scoped>\n",
       "    .dataframe tbody tr th:only-of-type {\n",
       "        vertical-align: middle;\n",
       "    }\n",
       "\n",
       "    .dataframe tbody tr th {\n",
       "        vertical-align: top;\n",
       "    }\n",
       "\n",
       "    .dataframe thead th {\n",
       "        text-align: right;\n",
       "    }\n",
       "</style>\n",
       "<table border=\"1\" class=\"dataframe\">\n",
       "  <thead>\n",
       "    <tr style=\"text-align: right;\">\n",
       "      <th></th>\n",
       "      <th>created_utc</th>\n",
       "      <th>title</th>\n",
       "      <th>selftext</th>\n",
       "      <th>score</th>\n",
       "      <th>text</th>\n",
       "      <th>daily_tokens</th>\n",
       "      <th>tokens</th>\n",
       "    </tr>\n",
       "    <tr>\n",
       "      <th>date</th>\n",
       "      <th></th>\n",
       "      <th></th>\n",
       "      <th></th>\n",
       "      <th></th>\n",
       "      <th></th>\n",
       "      <th></th>\n",
       "      <th></th>\n",
       "    </tr>\n",
       "  </thead>\n",
       "  <tbody>\n",
       "    <tr>\n",
       "      <th>2020-03-13</th>\n",
       "      <td>1584068356</td>\n",
       "      <td>Disney puts are printing tendies right now</td>\n",
       "      <td>They announce that they're shutting down their...</td>\n",
       "      <td>1</td>\n",
       "      <td>Disney puts are printing tendies right now The...</td>\n",
       "      <td>[Disney, puts, are, printing, tendies, right, ...</td>\n",
       "      <td>[disney, puts, printing, tendies, right, annou...</td>\n",
       "    </tr>\n",
       "    <tr>\n",
       "      <th>2020-03-13</th>\n",
       "      <td>1584068308</td>\n",
       "      <td>Carnival CCL $18 put exp 3/20</td>\n",
       "      <td>I already F'd up big time with my four CCL $21...</td>\n",
       "      <td>1</td>\n",
       "      <td>Carnival CCL $18 put exp 3/20 I already F'd up...</td>\n",
       "      <td>[Carnival, CCL, $, 18, put, exp, 3/20, I, alre...</td>\n",
       "      <td>[carnival, ccl, put, exp, already, f, big, tim...</td>\n",
       "    </tr>\n",
       "    <tr>\n",
       "      <th>2020-03-13</th>\n",
       "      <td>1584068143</td>\n",
       "      <td>Congrats u/wsjgod you virgin bastard</td>\n",
       "      <td>This fucker must have made 10s of millions tod...</td>\n",
       "      <td>1</td>\n",
       "      <td>Congrats u/wsjgod you virgin bastard This fuck...</td>\n",
       "      <td>[Congrats, u/wsjgod, you, virgin, bastard, Thi...</td>\n",
       "      <td>[congrats, youwsjgod, virgin, bastard, fucker,...</td>\n",
       "    </tr>\n",
       "    <tr>\n",
       "      <th>2020-03-13</th>\n",
       "      <td>1584068105</td>\n",
       "      <td>Thoughts on shorting HYG or JNK?</td>\n",
       "      <td>Basically junk bond etfs. They are down with a...</td>\n",
       "      <td>1</td>\n",
       "      <td>Thoughts on shorting HYG or JNK? Basically jun...</td>\n",
       "      <td>[Thoughts, on, shorting, HYG, or, JNK, ?, Basi...</td>\n",
       "      <td>[thoughts, shorting, hyg, jnk, basically, junk...</td>\n",
       "    </tr>\n",
       "    <tr>\n",
       "      <th>2020-03-13</th>\n",
       "      <td>1584068101</td>\n",
       "      <td>Thoughts on 2022 Calls</td>\n",
       "      <td>The longterm calls are now getting cheaper and...</td>\n",
       "      <td>1</td>\n",
       "      <td>Thoughts on 2022 Calls The longterm calls are ...</td>\n",
       "      <td>[Thoughts, on, 2022, Calls, The, longterm, cal...</td>\n",
       "      <td>[thoughts, calls, longterm, calls, getting, ch...</td>\n",
       "    </tr>\n",
       "    <tr>\n",
       "      <th>...</th>\n",
       "      <td>...</td>\n",
       "      <td>...</td>\n",
       "      <td>...</td>\n",
       "      <td>...</td>\n",
       "      <td>...</td>\n",
       "      <td>...</td>\n",
       "      <td>...</td>\n",
       "    </tr>\n",
       "    <tr>\n",
       "      <th>2020-03-13</th>\n",
       "      <td>1584101249</td>\n",
       "      <td>Germany promising companies limitless loans</td>\n",
       "      <td>Article in German: https://www.welt.de/vermisc...</td>\n",
       "      <td>1</td>\n",
       "      <td>Germany promising companies limitless loans Ar...</td>\n",
       "      <td>[Germany, promising, companies, limitless, loa...</td>\n",
       "      <td>[germany, promising, companies, limitless, loa...</td>\n",
       "    </tr>\n",
       "    <tr>\n",
       "      <th>2020-03-13</th>\n",
       "      <td>1584101182</td>\n",
       "      <td>Rise champion</td>\n",
       "      <td>There are a lot of people out there that are a...</td>\n",
       "      <td>1</td>\n",
       "      <td>Rise champion There are a lot of people out th...</td>\n",
       "      <td>[Rise, champion, There, are, a, lot, of, peopl...</td>\n",
       "      <td>[rise, champion, lot, people, afraid, bitch, a...</td>\n",
       "    </tr>\n",
       "    <tr>\n",
       "      <th>2020-03-13</th>\n",
       "      <td>1584101007</td>\n",
       "      <td>What time are you all YOLOing your puts at?</td>\n",
       "      <td>So I made a huge profit on my Ford puts and I ...</td>\n",
       "      <td>1</td>\n",
       "      <td>What time are you all YOLOing your puts at? So...</td>\n",
       "      <td>[What, time, are, you, all, YOLOing, your, put...</td>\n",
       "      <td>[time, yoloing, puts, made, huge, profit, ford...</td>\n",
       "    </tr>\n",
       "    <tr>\n",
       "      <th>2020-03-13</th>\n",
       "      <td>1584100956</td>\n",
       "      <td>This pump is so depressing, especially the lim...</td>\n",
       "      <td>.....because I can’t double up on puts because...</td>\n",
       "      <td>1</td>\n",
       "      <td>This pump is so depressing, especially the lim...</td>\n",
       "      <td>[This, pump, is, so, depressing, ,, especially...</td>\n",
       "      <td>[pump, depressing, especially, limit, double, ...</td>\n",
       "    </tr>\n",
       "    <tr>\n",
       "      <th>2020-03-13</th>\n",
       "      <td>1584125286</td>\n",
       "      <td>Defense contractor Calls?</td>\n",
       "      <td>1) We know the virus is going to get worse\\n\\n...</td>\n",
       "      <td>1</td>\n",
       "      <td>Defense contractor Calls? 1) We know the virus...</td>\n",
       "      <td>[Defense, contractor, Calls, ?, 1, ), We, know...</td>\n",
       "      <td>[defense, contractor, calls, know, virus, goin...</td>\n",
       "    </tr>\n",
       "  </tbody>\n",
       "</table>\n",
       "<p>686 rows × 7 columns</p>\n",
       "</div>"
      ],
      "text/plain": [
       "            created_utc                                              title  \\\n",
       "date                                                                         \n",
       "2020-03-13   1584068356         Disney puts are printing tendies right now   \n",
       "2020-03-13   1584068308                      Carnival CCL $18 put exp 3/20   \n",
       "2020-03-13   1584068143               Congrats u/wsjgod you virgin bastard   \n",
       "2020-03-13   1584068105                   Thoughts on shorting HYG or JNK?   \n",
       "2020-03-13   1584068101                             Thoughts on 2022 Calls   \n",
       "...                 ...                                                ...   \n",
       "2020-03-13   1584101249        Germany promising companies limitless loans   \n",
       "2020-03-13   1584101182                                      Rise champion   \n",
       "2020-03-13   1584101007        What time are you all YOLOing your puts at?   \n",
       "2020-03-13   1584100956  This pump is so depressing, especially the lim...   \n",
       "2020-03-13   1584125286                          Defense contractor Calls?   \n",
       "\n",
       "                                                     selftext  score  \\\n",
       "date                                                                   \n",
       "2020-03-13  They announce that they're shutting down their...      1   \n",
       "2020-03-13  I already F'd up big time with my four CCL $21...      1   \n",
       "2020-03-13  This fucker must have made 10s of millions tod...      1   \n",
       "2020-03-13  Basically junk bond etfs. They are down with a...      1   \n",
       "2020-03-13  The longterm calls are now getting cheaper and...      1   \n",
       "...                                                       ...    ...   \n",
       "2020-03-13  Article in German: https://www.welt.de/vermisc...      1   \n",
       "2020-03-13  There are a lot of people out there that are a...      1   \n",
       "2020-03-13  So I made a huge profit on my Ford puts and I ...      1   \n",
       "2020-03-13  .....because I can’t double up on puts because...      1   \n",
       "2020-03-13  1) We know the virus is going to get worse\\n\\n...      1   \n",
       "\n",
       "                                                         text  \\\n",
       "date                                                            \n",
       "2020-03-13  Disney puts are printing tendies right now The...   \n",
       "2020-03-13  Carnival CCL $18 put exp 3/20 I already F'd up...   \n",
       "2020-03-13  Congrats u/wsjgod you virgin bastard This fuck...   \n",
       "2020-03-13  Thoughts on shorting HYG or JNK? Basically jun...   \n",
       "2020-03-13  Thoughts on 2022 Calls The longterm calls are ...   \n",
       "...                                                       ...   \n",
       "2020-03-13  Germany promising companies limitless loans Ar...   \n",
       "2020-03-13  Rise champion There are a lot of people out th...   \n",
       "2020-03-13  What time are you all YOLOing your puts at? So...   \n",
       "2020-03-13  This pump is so depressing, especially the lim...   \n",
       "2020-03-13  Defense contractor Calls? 1) We know the virus...   \n",
       "\n",
       "                                                 daily_tokens  \\\n",
       "date                                                            \n",
       "2020-03-13  [Disney, puts, are, printing, tendies, right, ...   \n",
       "2020-03-13  [Carnival, CCL, $, 18, put, exp, 3/20, I, alre...   \n",
       "2020-03-13  [Congrats, u/wsjgod, you, virgin, bastard, Thi...   \n",
       "2020-03-13  [Thoughts, on, shorting, HYG, or, JNK, ?, Basi...   \n",
       "2020-03-13  [Thoughts, on, 2022, Calls, The, longterm, cal...   \n",
       "...                                                       ...   \n",
       "2020-03-13  [Germany, promising, companies, limitless, loa...   \n",
       "2020-03-13  [Rise, champion, There, are, a, lot, of, peopl...   \n",
       "2020-03-13  [What, time, are, you, all, YOLOing, your, put...   \n",
       "2020-03-13  [This, pump, is, so, depressing, ,, especially...   \n",
       "2020-03-13  [Defense, contractor, Calls, ?, 1, ), We, know...   \n",
       "\n",
       "                                                       tokens  \n",
       "date                                                           \n",
       "2020-03-13  [disney, puts, printing, tendies, right, annou...  \n",
       "2020-03-13  [carnival, ccl, put, exp, already, f, big, tim...  \n",
       "2020-03-13  [congrats, youwsjgod, virgin, bastard, fucker,...  \n",
       "2020-03-13  [thoughts, shorting, hyg, jnk, basically, junk...  \n",
       "2020-03-13  [thoughts, calls, longterm, calls, getting, ch...  \n",
       "...                                                       ...  \n",
       "2020-03-13  [germany, promising, companies, limitless, loa...  \n",
       "2020-03-13  [rise, champion, lot, people, afraid, bitch, a...  \n",
       "2020-03-13  [time, yoloing, puts, made, huge, profit, ford...  \n",
       "2020-03-13  [pump, depressing, especially, limit, double, ...  \n",
       "2020-03-13  [defense, contractor, calls, know, virus, goin...  \n",
       "\n",
       "[686 rows x 7 columns]"
      ]
     },
     "execution_count": 538,
     "metadata": {},
     "output_type": "execute_result"
    }
   ],
   "source": [
    "data.loc['2020-03-13']"
   ]
  },
  {
   "cell_type": "markdown",
   "id": "241d89e9",
   "metadata": {},
   "source": [
    ">    2. Build two lists $l$ and $l_{ref}$ containing all tokens for submissions posted on r/wallstreebets on day $d$, and in the 7 days preceding day $d$, respectively."
   ]
  },
  {
   "cell_type": "code",
   "execution_count": 539,
   "id": "027301a5",
   "metadata": {},
   "outputs": [],
   "source": [
    "d = data.loc['2020-03-13'].index[0]\n",
    "d_min = d - datetime.timedelta(days=7)"
   ]
  },
  {
   "cell_type": "code",
   "execution_count": 540,
   "id": "3e477d87",
   "metadata": {},
   "outputs": [],
   "source": [
    "import re, string, unicodedata\n",
    "import nltk\n",
    "import contractions\n",
    "import inflect\n",
    "from nltk import word_tokenize, sent_tokenize\n",
    "from nltk.corpus import stopwords\n",
    "from nltk.stem import LancasterStemmer, WordNetLemmatizer\n",
    "\n",
    "def replace_contractions(text):\n",
    "    \"\"\"Replace contractions in string of text\"\"\"\n",
    "    return contractions.fix(text)\n",
    "\n",
    "def remove_URL(sample):\n",
    "    \"\"\"Remove URLs from a sample string\"\"\"\n",
    "    return re.sub(r\"http\\S+\", \"\", sample)\n",
    "\n",
    "def remove_non_ascii(words):\n",
    "    \"\"\"Remove non-ASCII characters from list of tokenized words\"\"\"\n",
    "    new_words = []\n",
    "    for word in words:\n",
    "        new_word = unicodedata.normalize('NFKD', word).encode('ascii', 'ignore').decode('utf-8', 'ignore')\n",
    "        new_words.append(new_word)\n",
    "    return new_words\n",
    "\n",
    "def to_lowercase(words):\n",
    "    \"\"\"Convert all characters to lowercase from list of tokenized words\"\"\"\n",
    "    new_words = []\n",
    "    for word in words:\n",
    "        new_word = word.lower()\n",
    "        new_words.append(new_word)\n",
    "    return new_words\n",
    "\n",
    "def remove_punctuation(words):\n",
    "    \"\"\"Remove punctuation from list of tokenized words\"\"\"\n",
    "    new_words = []\n",
    "    for word in words:\n",
    "        new_word = re.sub(r'[^\\w\\s]', '', word)\n",
    "        if new_word != '':\n",
    "            new_words.append(new_word)\n",
    "    return new_words\n",
    "\n",
    "def replace_numbers(words):\n",
    "    \"\"\"Replace all interger occurrences in list of tokenized words with textual representation\"\"\"\n",
    "    p = inflect.engine()\n",
    "    new_words = []\n",
    "    for word in words:\n",
    "        if word.isdigit():\n",
    "            new_word = p.number_to_words(word)\n",
    "            new_words.append(new_word)\n",
    "        else:\n",
    "            new_words.append(word)\n",
    "    return new_words\n",
    "\n",
    "def remove_numbers(words):\n",
    "    \"\"\"Replace all interger occurrences in list of tokenized words with textual representation\"\"\"\n",
    "    new_words = []\n",
    "    for word in words:\n",
    "        if word.isdigit():\n",
    "            continue\n",
    "        else:\n",
    "            new_words.append(word)\n",
    "    return new_words\n",
    "\n",
    "\n",
    "def remove_stopwords(words):\n",
    "    \"\"\"Remove stop words from list of tokenized words\"\"\"\n",
    "    new_words = []\n",
    "    for word in words:\n",
    "        if word not in stopwords.words('english'):\n",
    "            new_words.append(word)\n",
    "    return new_words\n",
    "\n",
    "def stem_words(words):\n",
    "    \"\"\"Stem words in list of tokenized words\"\"\"\n",
    "    stemmer = LancasterStemmer()\n",
    "    stems = []\n",
    "    for word in words:\n",
    "        stem = stemmer.stem(word)\n",
    "        stems.append(stem)\n",
    "    return stems\n",
    "\n",
    "def lemmatize_verbs(words):\n",
    "    \"\"\"Lemmatize verbs in list of tokenized words\"\"\"\n",
    "    lemmatizer = WordNetLemmatizer()\n",
    "    lemmas = []\n",
    "    for word in words:\n",
    "        lemma = lemmatizer.lemmatize(word, pos='v')\n",
    "        lemmas.append(lemma)\n",
    "    return lemmas\n",
    "\n",
    "def normalize(words):\n",
    "    words = remove_non_ascii(words)\n",
    "    words = to_lowercase(words)\n",
    "    words = remove_punctuation(words)\n",
    "    words = remove_numbers(words)\n",
    "    words = remove_stopwords(words)\n",
    "    return words\n",
    "\n",
    "def preprocess(sample):\n",
    "    sample = remove_URL(sample)\n",
    "    sample = replace_contractions(sample)\n",
    "    # Tokenize\n",
    "    words = nltk.word_tokenize(sample)\n",
    "\n",
    "    # Normalize\n",
    "    return normalize(words)"
   ]
  },
  {
   "cell_type": "code",
   "execution_count": 541,
   "id": "48fc0b86",
   "metadata": {},
   "outputs": [],
   "source": [
    "#data['tokens'] = [preprocess(data['text'][i]) for i in range(len(data['text']))]\n",
    "\n",
    "#^takes a long time to run"
   ]
  },
  {
   "cell_type": "code",
   "execution_count": 542,
   "id": "109b0f44",
   "metadata": {},
   "outputs": [],
   "source": [
    "l = np.ndarray.tolist(np.concatenate(data.loc[d]['tokens']))"
   ]
  },
  {
   "cell_type": "code",
   "execution_count": 543,
   "id": "952858b6",
   "metadata": {},
   "outputs": [],
   "source": [
    "l_ref = []\n",
    "date = d_min\n",
    "while date <= d:\n",
    "    l_ref.append(np.concatenate(data.loc[date]['tokens']))\n",
    "    date += datetime.timedelta(days=1)\n",
    "l_ref = [item for sublist in l_ref for item in sublist]\n",
    "    "
   ]
  },
  {
   "cell_type": "markdown",
   "id": "6dafce3b",
   "metadata": {},
   "source": [
    ">    3. For each token $i$, compute the relative frequency in the two lists $l$ and $l_{ref}$. We call them $p(i,l)$ and $p(i,l_{ref})$, respectively. The relative frequency is computed as the number of times a token occurs over the total length of the document. Store the result in a dictionary."
   ]
  },
  {
   "cell_type": "code",
   "execution_count": 544,
   "id": "f5d63dd9",
   "metadata": {},
   "outputs": [],
   "source": [
    "from collections import Counter"
   ]
  },
  {
   "cell_type": "code",
   "execution_count": 545,
   "id": "d7c777ff",
   "metadata": {},
   "outputs": [],
   "source": [
    "p = dict([(item[0],item[1]/len(l)) for item in Counter(l).items()])\n",
    "p_ref = dict([(item[0],item[1]/len(l_ref)) for item in Counter(l_ref).items()])"
   ]
  },
  {
   "cell_type": "code",
   "execution_count": 546,
   "id": "829768e7",
   "metadata": {},
   "outputs": [
    {
     "data": {
      "text/plain": [
       "[('puts', 0.011876339149066422),\n",
       " ('going', 0.00945821854912764),\n",
       " ('market', 0.008172635445362718),\n",
       " ('people', 0.00655035200489746),\n",
       " ('get', 0.006213651668197122),\n",
       " ('like', 0.006091215182124273),\n",
       " ('buy', 0.005693296602387512),\n",
       " ('go', 0.004897459442913988),\n",
       " ('spy', 0.004897459442913988),\n",
       " ('would', 0.0047444138353229266)]"
      ]
     },
     "execution_count": 546,
     "metadata": {},
     "output_type": "execute_result"
    }
   ],
   "source": [
    "sorted(p.items(), key = lambda x:x[1],reverse=True)[:10]"
   ]
  },
  {
   "cell_type": "code",
   "execution_count": 547,
   "id": "4938168e",
   "metadata": {},
   "outputs": [
    {
     "data": {
      "text/plain": [
       "[('puts', 0.008769190874114216),\n",
       " ('going', 0.007578443772921882),\n",
       " ('market', 0.007266203421942559),\n",
       " ('like', 0.005837306900511757),\n",
       " ('get', 0.005609741898950555),\n",
       " ('people', 0.005302793757309864),\n",
       " ('amp', 0.005011722243685071),\n",
       " ('buy', 0.004731235148737543),\n",
       " ('would', 0.004387241541726424),\n",
       " ('time', 0.004291981773631038)]"
      ]
     },
     "execution_count": 547,
     "metadata": {},
     "output_type": "execute_result"
    }
   ],
   "source": [
    "sorted(p_ref.items(), key = lambda x:x[1],reverse=True)[:10]"
   ]
  },
  {
   "cell_type": "markdown",
   "id": "ad80d2b1",
   "metadata": {},
   "source": [
    ">    4. For each token $i$, compute the difference in relative frequency $\\delta p(i) = p(i,l) - p(i,l_{ref})$. Store the values in a dictionary. Print the top 10 tokens (those with largest relative frequency). Do you notice anything interesting?"
   ]
  },
  {
   "cell_type": "code",
   "execution_count": 548,
   "id": "bd6963c9",
   "metadata": {},
   "outputs": [],
   "source": [
    "all_tokens = set(p.keys()).union(set(p_ref.keys()))"
   ]
  },
  {
   "cell_type": "code",
   "execution_count": 549,
   "id": "0280365f",
   "metadata": {},
   "outputs": [],
   "source": [
    "dp = dict([(token, p.get(token,0) - p_ref.get(token,0)) for token in all_tokens])"
   ]
  },
  {
   "cell_type": "code",
   "execution_count": 550,
   "id": "b6164650",
   "metadata": {},
   "outputs": [
    {
     "data": {
      "text/plain": [
       "[('puts', 0.0031071482749522056),\n",
       " ('going', 0.0018797747762057584),\n",
       " ('trump', 0.0017760494170471043),\n",
       " ('today', 0.0013283633348227172),\n",
       " ('fucking', 0.0013010406639645039),\n",
       " ('next', 0.0012511225108896443),\n",
       " ('people', 0.0012475582475875956),\n",
       " ('weekend', 0.0009784937069499647),\n",
       " ('even', 0.0009724952217399995),\n",
       " ('buy', 0.0009620614536499685)]"
      ]
     },
     "execution_count": 550,
     "metadata": {},
     "output_type": "execute_result"
    }
   ],
   "source": [
    "sorted(dp.items(), key = lambda x:x[1], reverse = True)[:10]"
   ]
  },
  {
   "cell_type": "markdown",
   "id": "1e45dda7",
   "metadata": {},
   "source": [
    "# to be written"
   ]
  },
  {
   "cell_type": "markdown",
   "id": "0bb8b162",
   "metadata": {},
   "source": [
    "Notice anything interesting??\n",
    "\n",
    "Not really...?"
   ]
  },
  {
   "cell_type": "markdown",
   "id": "104515a3",
   "metadata": {},
   "source": [
    ">    5. Now, for each token, compute the happiness $h(i) = labMT(i) - 5$, using the labMT dictionary. Here, we subtract $5$, so that positive tokens will have a positive value and negative tokens will have a negative value. Then, compute the product $\\delta \\Phi = h(i)\\cdot \\delta p(i)$. Store the results in a dictionary. "
   ]
  },
  {
   "cell_type": "code",
   "execution_count": 551,
   "id": "e8e4b5ad",
   "metadata": {},
   "outputs": [],
   "source": [
    "labMt_dict = pd.read_csv(\"Hedonometer.csv\")\n",
    "labMt_dict = labMt_dict.set_index(\"Word\")"
   ]
  },
  {
   "cell_type": "code",
   "execution_count": 552,
   "id": "1aea071a",
   "metadata": {},
   "outputs": [],
   "source": [
    "h = dict([(token, labMt_dict[\"Happiness Score\"].get(token,np.nan)-5) for token in all_tokens])"
   ]
  },
  {
   "cell_type": "code",
   "execution_count": 553,
   "id": "16324cf9",
   "metadata": {},
   "outputs": [],
   "source": [
    "dPhi = dict([(token,h[token]*dp[token]) for token in all_tokens if not np.isnan(h[token])])"
   ]
  },
  {
   "cell_type": "markdown",
   "id": "7da45ecf",
   "metadata": {},
   "source": [
    ">    6. Print the top 10 tokens, ordered by the absolute value of $|\\delta \\Phi|$. Explain in your own words the meaning of $\\delta \\Phi$. If that is unclear, have a look at [this page](https://shifterator.readthedocs.io/en/latest/cookbook/weighted_avg_shifts.html)."
   ]
  },
  {
   "cell_type": "code",
   "execution_count": 554,
   "id": "e00a1fab",
   "metadata": {},
   "outputs": [
    {
     "data": {
      "text/plain": [
       "[('coronavirus', 0.0030169009305166783),\n",
       " ('weekend', 0.002935481120849894),\n",
       " ('virus', 0.002394800329647459),\n",
       " ('earnings', -0.002179226544625695),\n",
       " ('emergency', -0.0017209639229117445),\n",
       " ('today', 0.0016206032684837146),\n",
       " ('good', 0.0015869197540159712),\n",
       " ('quarantine', -0.0015670364327013964),\n",
       " ('people', 0.001447167567201611),\n",
       " ('revenue', -0.001444114543956884)]"
      ]
     },
     "execution_count": 554,
     "metadata": {},
     "output_type": "execute_result"
    }
   ],
   "source": [
    "sorted(dPhi.items(), key = lambda x:np.abs(x[1]), reverse = True)[:10]"
   ]
  },
  {
   "cell_type": "markdown",
   "id": "1803fac8",
   "metadata": {},
   "source": [
    "# We should talk about the results here"
   ]
  },
  {
   "cell_type": "markdown",
   "id": "6d2844b6",
   "metadata": {},
   "source": [
    ">    7. Now install the [``shifterator``](https://shifterator.readthedocs.io/en/latest/installation.html) Python package. We will use it for plotting Word Shifts. \n",
    ">    8. Use the function ``shifterator.WeightedAvgShift`` to plot the WordShift, showing which words contributed the most to make your day of choice _d_ happier or more sad then days in the preceding 7 days. Comment on the figure. "
   ]
  },
  {
   "cell_type": "code",
   "execution_count": 555,
   "id": "7ae75572",
   "metadata": {},
   "outputs": [],
   "source": [
    "import shifterator as sh\n",
    "\n"
   ]
  },
  {
   "cell_type": "code",
   "execution_count": 560,
   "id": "8042602b",
   "metadata": {},
   "outputs": [],
   "source": [
    "sentiment_sh = sh.WeightedAvgShift(type2freq_1=p_ref,\n",
    "                    type2freq_2=p,\n",
    "                    type2score_1 = 'labMT_English',\n",
    "                    reference_value=5)"
   ]
  },
  {
   "cell_type": "code",
   "execution_count": 557,
   "id": "2f01ba1e",
   "metadata": {},
   "outputs": [
    {
     "name": "stderr",
     "output_type": "stream",
     "text": [
      "C:\\Users\\rune7\\anaconda3\\lib\\site-packages\\shifterator\\plotting.py:604: UserWarning: FixedFormatter should only be used together with FixedLocator\n",
      "  ax.set_xticklabels(x_ticks, fontsize=plot_params[\"xtick_fontsize\"])\n"
     ]
    },
    {
     "data": {
      "image/png": "[encoded data removed]",
      "text/plain": [
       "<Figure size 504x1080 with 3 Axes>"
      ]
     },
     "metadata": {
      "needs_background": "light"
     },
     "output_type": "display_data"
    },
    {
     "data": {
      "text/plain": [
       "<AxesSubplot:title={'center':'reference: $\\\\Phi_{avg}=$5.50\\nd: $\\\\Phi_{avg}=$5.49'}, xlabel='Score shift $\\\\delta \\\\Phi_{\\\\tau}$ (%)', ylabel='Rank'>"
      ]
     },
     "execution_count": 557,
     "metadata": {},
     "output_type": "execute_result"
    }
   ],
   "source": [
    "sentiment_sh.get_shift_graph(detailed= True,\n",
    "                            system_names = ['reference', 'd'])"
   ]
  },
  {
   "cell_type": "markdown",
   "id": "0d2bdd27",
   "metadata": {},
   "source": []
  },
  {
   "cell_type": "code",
   "execution_count": null,
   "id": "efd99df1",
   "metadata": {},
   "outputs": [],
   "source": []
  },
  {
   "cell_type": "code",
   "execution_count": null,
   "id": "3338f781",
   "metadata": {},
   "outputs": [],
   "source": []
  },
  {
   "cell_type": "code",
   "execution_count": null,
   "id": "35f6c588",
   "metadata": {},
   "outputs": [],
   "source": []
  },
  {
   "cell_type": "code",
   "execution_count": null,
   "id": "8439b236",
   "metadata": {},
   "outputs": [],
   "source": []
  },
  {
   "cell_type": "code",
   "execution_count": null,
   "id": "081b8a74",
   "metadata": {},
   "outputs": [],
   "source": []
  },
  {
   "cell_type": "code",
   "execution_count": null,
   "id": "c350f49b",
   "metadata": {},
   "outputs": [],
   "source": []
  },
  {
   "cell_type": "code",
   "execution_count": null,
   "id": "a1298464",
   "metadata": {},
   "outputs": [],
   "source": []
  },
  {
   "cell_type": "code",
   "execution_count": null,
   "id": "c01735ca",
   "metadata": {},
   "outputs": [],
   "source": []
  },
  {
   "cell_type": "code",
   "execution_count": null,
   "id": "f56a1790",
   "metadata": {},
   "outputs": [],
   "source": []
  }
 ],
 "metadata": {
  "kernelspec": {
   "display_name": "Python 3 (ipykernel)",
   "language": "python",
   "name": "python3"
  },
  "language_info": {
   "codemirror_mode": {
    "name": "ipython",
    "version": 3
   },
   "file_extension": ".py",
   "mimetype": "text/x-python",
   "name": "python",
   "nbconvert_exporter": "python",
   "pygments_lexer": "ipython3",
   "version": "3.9.7"
  }
 },
 "nbformat": 4,
 "nbformat_minor": 5
}
