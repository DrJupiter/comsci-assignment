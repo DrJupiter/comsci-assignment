{
 "cells": [
  {
   "cell_type": "markdown",
   "id": "b2f48e99",
   "metadata": {},
   "source": [
    "# Part 2: Sentiment analysis\n"
   ]
  },
  {
   "cell_type": "markdown",
   "id": "a1facb85",
   "metadata": {},
   "source": [
    "_Exercise: Creating Word Shifts_\n",
    ">    1. Pick a day of your choice in 2020. We call it $d$. It is more interesting if you pick a day where you expect something relevant to occur (e.g. Christmas, New Year, Corona starting, the market crashes...).\n",
    ">    2. Build two lists $l$ and $l_{ref}$ containing all tokens for submissions posted on r/wallstreebets on day $d$, and in the 7 days preceding day $d$, respectively. \n",
    ">    3. For each token $i$, compute the relative frequency in the two lists $l$ and $l_{ref}$. We call them $p(i,l)$ and $p(i,l_{ref})$, respectively. The relative frequency is computed as the number of times a token occurs over the total length of the document. Store the result in a dictionary.\n",
    ">    4. For each token $i$, compute the difference in relative frequency $\\delta p(i) = p(i,l) - p(i,l_{ref})$. Store the values in a dictionary. Print the top 10 tokens (those with largest relative frequency). Do you notice anything interesting?\n",
    ">    5. Now, for each token, compute the happiness $h(i) = labMT(i) - 5$, using the labMT dictionary. Here, we subtract $5$, so that positive tokens will have a positive value and negative tokens will have a negative value. Then, compute the product $\\delta \\Phi = h(i)\\cdot \\delta p(i)$. Store the results in a dictionary. \n",
    ">    6. Print the top 10 tokens, ordered by the absolute value of $|\\delta \\Phi|$. Explain in your own words the meaning of $\\delta \\Phi$. If that is unclear, have a look at [this page](https://shifterator.readthedocs.io/en/latest/cookbook/weighted_avg_shifts.html).\n",
    ">    7. Now install the [``shifterator``](https://shifterator.readthedocs.io/en/latest/installation.html) Python package. We will use it for plotting Word Shifts. \n",
    ">    8. Use the function ``shifterator.WeightedAvgShift`` to plot the WordShift, showing which words contributed the most to make your day of choice _d_ happier or more sad then days in the preceding 7 days. Comment on the figure. \n",
    ">    9. How do words that you printed in step 6 relate to those shown by the WordShift? "
   ]
  },
  {
   "cell_type": "code",
   "execution_count": 300,
   "id": "78be3b7a",
   "metadata": {},
   "outputs": [],
   "source": [
    "import nltk, re, pprint\n",
    "from nltk import word_tokenize\n",
    "import numpy as np\n",
    "import pandas as pd\n",
    "import matplotlib.dates as mdate\n",
    "from scipy.stats import pearsonr\n",
    "from scipy import stats\n",
    "import matplotlib.pyplot as plt\n",
    "import re\n",
    "import datetime as datetime\n",
    "from collections import Counter\n",
    "\n",
    "data = pd.read_csv(\"wallstreet_subs.csv\", parse_dates = True)"
   ]
  },
  {
   "cell_type": "markdown",
   "id": "cf568182",
   "metadata": {},
   "source": [
    "Combining titles and main text"
   ]
  },
  {
   "cell_type": "code",
   "execution_count": 302,
   "id": "05202268",
   "metadata": {},
   "outputs": [],
   "source": [
    "empty = []\n",
    "for i in range(len(data['title'])):\n",
    "    empty.append(data['title'][i]+' '+data['selftext'][i])\n",
    "data['text'] = empty"
   ]
  },
  {
   "cell_type": "markdown",
   "id": "9187ea5a",
   "metadata": {},
   "source": [
    ">    1. Pick a day of your choice in 2020. We call it $d$. It is more interesting if you pick a day where you expect something relevant to occur (e.g. Christmas, New Year, Corona starting, the market crashes...).\n"
   ]
  },
  {
   "cell_type": "markdown",
   "id": "05698794",
   "metadata": {},
   "source": [
    "## Our answer:"
   ]
  },
  {
   "cell_type": "markdown",
   "id": "02850d40",
   "metadata": {},
   "source": [
    "We picked Christmas day (25th of December), since it seems reasonable to assume that this will be a day with relatively positive sentiment. "
   ]
  },
  {
   "cell_type": "markdown",
   "id": "241d89e9",
   "metadata": {},
   "source": [
    ">    2. Build two lists $l$ and $l_{ref}$ containing all tokens for submissions posted on r/wallstreebets on day $d$, and in the 7 days preceding day $d$, respectively."
   ]
  },
  {
   "cell_type": "markdown",
   "id": "a9c90130",
   "metadata": {},
   "source": [
    "Some preprocessing: converting utc to datetime"
   ]
  },
  {
   "cell_type": "code",
   "execution_count": null,
   "id": "17f06d0c",
   "metadata": {},
   "outputs": [],
   "source": [
    "data['date'] = [datetime.datetime.fromtimestamp(ts) for ts in data['created_utc']]\n",
    "data['date'] = data['date'].dt.date\n",
    "data['date'] = pd.to_datetime(data['date'])\n",
    "data.set_index('date', inplace = True)"
   ]
  },
  {
   "cell_type": "markdown",
   "id": "761311b0",
   "metadata": {},
   "source": [
    "Defining datetime ranges"
   ]
  },
  {
   "cell_type": "code",
   "execution_count": 780,
   "id": "027301a5",
   "metadata": {},
   "outputs": [],
   "source": [
    "d = data.loc['2020-12-25'].index[0]\n",
    "d_min = d - datetime.timedelta(days=7)"
   ]
  },
  {
   "cell_type": "markdown",
   "id": "8d299011",
   "metadata": {},
   "source": [
    "Defining preprocessing functions"
   ]
  },
  {
   "cell_type": "code",
   "execution_count": 762,
   "id": "3e477d87",
   "metadata": {},
   "outputs": [],
   "source": [
    "import re, string, unicodedata\n",
    "import nltk\n",
    "import contractions\n",
    "import inflect\n",
    "from nltk import word_tokenize, sent_tokenize\n",
    "from nltk.corpus import stopwords\n",
    "from nltk.stem import LancasterStemmer, WordNetLemmatizer\n",
    "\n",
    "def replace_contractions(text):\n",
    "    \"\"\"Replace contractions in string of text\"\"\"\n",
    "    return contractions.fix(text)\n",
    "\n",
    "def remove_URL(sample):\n",
    "    \"\"\"Remove URLs from a sample string\"\"\"\n",
    "    return re.sub(r\"http\\S+\", \"\", sample)\n",
    "\n",
    "def remove_non_ascii(words):\n",
    "    \"\"\"Remove non-ASCII characters from list of tokenized words\"\"\"\n",
    "    new_words = []\n",
    "    for word in words:\n",
    "        new_word = unicodedata.normalize('NFKD', word).encode('ascii', 'ignore').decode('utf-8', 'ignore')\n",
    "        new_words.append(new_word)\n",
    "    return new_words\n",
    "\n",
    "def to_lowercase(words):\n",
    "    \"\"\"Convert all characters to lowercase from list of tokenized words\"\"\"\n",
    "    new_words = []\n",
    "    for word in words:\n",
    "        new_word = word.lower()\n",
    "        new_words.append(new_word)\n",
    "    return new_words\n",
    "\n",
    "def remove_punctuation(words):\n",
    "    \"\"\"Remove punctuation from list of tokenized words\"\"\"\n",
    "    new_words = []\n",
    "    for word in words:\n",
    "        new_word = re.sub(r'[^\\w\\s]', '', word)\n",
    "        if new_word != '':\n",
    "            new_words.append(new_word)\n",
    "    return new_words\n",
    "\n",
    "def replace_numbers(words):\n",
    "    \"\"\"Replace all interger occurrences in list of tokenized words with textual representation\"\"\"\n",
    "    p = inflect.engine()\n",
    "    new_words = []\n",
    "    for word in words:\n",
    "        if word.isdigit():\n",
    "            new_word = p.number_to_words(word)\n",
    "            new_words.append(new_word)\n",
    "        else:\n",
    "            new_words.append(word)\n",
    "    return new_words\n",
    "\n",
    "def remove_numbers(words):\n",
    "    \"\"\"Replace all interger occurrences in list of tokenized words with textual representation\"\"\"\n",
    "    new_words = []\n",
    "    for word in words:\n",
    "        if word.isdigit():\n",
    "            continue\n",
    "        else:\n",
    "            new_words.append(word)\n",
    "    return new_words\n",
    "\n",
    "\n",
    "def remove_stopwords(words):\n",
    "    \"\"\"Remove stop words from list of tokenized words\"\"\"\n",
    "    new_words = []\n",
    "    for word in words:\n",
    "        if word not in stopwords.words('english'):\n",
    "            new_words.append(word)\n",
    "    return new_words\n",
    "\n",
    "def stem_words(words):\n",
    "    \"\"\"Stem words in list of tokenized words\"\"\"\n",
    "    stemmer = LancasterStemmer()\n",
    "    stems = []\n",
    "    for word in words:\n",
    "        stem = stemmer.stem(word)\n",
    "        stems.append(stem)\n",
    "    return stems\n",
    "\n",
    "def lemmatize_verbs(words):\n",
    "    \"\"\"Lemmatize verbs in list of tokenized words\"\"\"\n",
    "    lemmatizer = WordNetLemmatizer()\n",
    "    lemmas = []\n",
    "    for word in words:\n",
    "        lemma = lemmatizer.lemmatize(word, pos='v')\n",
    "        lemmas.append(lemma)\n",
    "    return lemmas\n",
    "\n",
    "def normalize(words):\n",
    "    words = remove_non_ascii(words)\n",
    "    words = to_lowercase(words)\n",
    "    words = remove_punctuation(words)\n",
    "    words = remove_numbers(words)\n",
    "    words = remove_stopwords(words)\n",
    "    return words\n",
    "\n",
    "def preprocess(sample):\n",
    "    sample = remove_URL(sample)\n",
    "    sample = replace_contractions(sample)\n",
    "    # Tokenize\n",
    "    words = nltk.word_tokenize(sample)\n",
    "\n",
    "    # Normalize\n",
    "    return normalize(words)"
   ]
  },
  {
   "cell_type": "markdown",
   "id": "3fabbf2a",
   "metadata": {},
   "source": [
    "Extracting tokens and preprocessing text for all submissions"
   ]
  },
  {
   "cell_type": "code",
   "execution_count": 763,
   "id": "48fc0b86",
   "metadata": {},
   "outputs": [],
   "source": [
    "data['tokens'] = [preprocess(data['text'][i]) for i in range(len(data['text']))]\n",
    "\n",
    "#^takes a long time to run"
   ]
  },
  {
   "cell_type": "markdown",
   "id": "3ca50d9f",
   "metadata": {},
   "source": [
    "Building the two lists $l$ and $l_{ref}$"
   ]
  },
  {
   "cell_type": "code",
   "execution_count": 781,
   "id": "109b0f44",
   "metadata": {},
   "outputs": [],
   "source": [
    "l = np.ndarray.tolist(np.concatenate(data.loc[d]['tokens']))"
   ]
  },
  {
   "cell_type": "code",
   "execution_count": 782,
   "id": "952858b6",
   "metadata": {},
   "outputs": [],
   "source": [
    "l_ref = []\n",
    "date = d_min\n",
    "while date <= d:\n",
    "    l_ref.append(np.concatenate(data.loc[date]['tokens']))\n",
    "    date += datetime.timedelta(days=1)\n",
    "l_ref = [item for sublist in l_ref for item in sublist]\n",
    "    "
   ]
  },
  {
   "cell_type": "markdown",
   "id": "6dafce3b",
   "metadata": {},
   "source": [
    ">    3. For each token $i$, compute the relative frequency in the two lists $l$ and $l_{ref}$. We call them $p(i,l)$ and $p(i,l_{ref})$, respectively. The relative frequency is computed as the number of times a token occurs over the total length of the document. Store the result in a dictionary."
   ]
  },
  {
   "cell_type": "markdown",
   "id": "d81c976a",
   "metadata": {},
   "source": [
    "Computing the relative frequencies of $l$ and $l_{ref}$ and storing them in $\\textit{two}$ dictiobaries for ease of use"
   ]
  },
  {
   "cell_type": "code",
   "execution_count": 784,
   "id": "d7c777ff",
   "metadata": {},
   "outputs": [],
   "source": [
    "p = dict([(item[0],item[1]/len(l)) for item in Counter(l).items()])\n",
    "p_ref = dict([(item[0],item[1]/len(l_ref)) for item in Counter(l_ref).items()])"
   ]
  },
  {
   "cell_type": "markdown",
   "id": "5f8d6e74",
   "metadata": {},
   "source": [
    "Displaying top 10 words with highest relative frequency in each list (not asked for directly)"
   ]
  },
  {
   "cell_type": "code",
   "execution_count": 785,
   "id": "829768e7",
   "metadata": {},
   "outputs": [
    {
     "data": {
      "text/plain": [
       "[('like', 0.007071765322158198),\n",
       " ('gme', 0.0054129561725161516),\n",
       " ('get', 0.005238344683080147),\n",
       " ('money', 0.005151038938362144),\n",
       " ('stock', 0.004539898725336127),\n",
       " ('year', 0.004365287235900122),\n",
       " ('shares', 0.004365287235900122),\n",
       " ('make', 0.004277981491182119),\n",
       " ('market', 0.004103370001746115),\n",
       " ('going', 0.00392875851231011)]"
      ]
     },
     "execution_count": 785,
     "metadata": {},
     "output_type": "execute_result"
    }
   ],
   "source": [
    "sorted(p.items(), key = lambda x:x[1],reverse=True)[:10]"
   ]
  },
  {
   "cell_type": "code",
   "execution_count": 786,
   "id": "4938168e",
   "metadata": {},
   "outputs": [
    {
     "data": {
      "text/plain": [
       "[('market', 0.005810589655001405),\n",
       " ('stock', 0.0055791579190980775),\n",
       " ('amp', 0.005273337410940109),\n",
       " ('like', 0.005182417800406658),\n",
       " ('going', 0.00469475807118179),\n",
       " ('company', 0.00460383846064834),\n",
       " ('shares', 0.0042070983419569205),\n",
       " ('would', 0.004182302084538707),\n",
       " ('get', 0.004182302084538707),\n",
       " ('price', 0.004050055378308234)]"
      ]
     },
     "execution_count": 786,
     "metadata": {},
     "output_type": "execute_result"
    }
   ],
   "source": [
    "sorted(p_ref.items(), key = lambda x:x[1],reverse=True)[:10]"
   ]
  },
  {
   "cell_type": "markdown",
   "id": "ad80d2b1",
   "metadata": {},
   "source": [
    ">    4. For each token $i$, compute the difference in relative frequency $\\delta p(i) = p(i,l) - p(i,l_{ref})$. Store the values in a dictionary. Print the top 10 tokens (those with largest relative frequency)."
   ]
  },
  {
   "cell_type": "markdown",
   "id": "9b040c15",
   "metadata": {},
   "source": [
    "Computing the difference in relative frequency by first taking the set of all tokens and then subtracting the two lists."
   ]
  },
  {
   "cell_type": "code",
   "execution_count": 770,
   "id": "bd6963c9",
   "metadata": {},
   "outputs": [],
   "source": [
    "all_tokens = set(p.keys()).union(set(p_ref.keys()))"
   ]
  },
  {
   "cell_type": "code",
   "execution_count": 771,
   "id": "0280365f",
   "metadata": {},
   "outputs": [],
   "source": [
    "dp = dict([(token, p.get(token,0) - p_ref.get(token,0)) for token in all_tokens])"
   ]
  },
  {
   "cell_type": "code",
   "execution_count": 787,
   "id": "b6164650",
   "metadata": {},
   "outputs": [
    {
     "data": {
      "text/plain": [
       "[('christmas', 0.0027457658878667487),\n",
       " ('gme', 0.002272096899542419),\n",
       " ('cerner', 0.001976008139464947),\n",
       " ('like', 0.00188934752175154),\n",
       " ('merry', 0.0017068631736800446),\n",
       " ('money', 0.0015638470318605656),\n",
       " ('make', 0.0014760044029239736),\n",
       " ('robinhood', 0.0011143291739498548),\n",
       " ('margin', 0.0010766159440682797),\n",
       " ('get', 0.0010560425985414396)]"
      ]
     },
     "execution_count": 787,
     "metadata": {},
     "output_type": "execute_result"
    }
   ],
   "source": [
    "sorted(dp.items(), key = lambda x:x[1], reverse = True)[:10]"
   ]
  },
  {
   "cell_type": "markdown",
   "id": "1d4799c0",
   "metadata": {},
   "source": [
    "## Question:"
   ]
  },
  {
   "cell_type": "markdown",
   "id": "100942a4",
   "metadata": {},
   "source": [
    "Do you notice anything interesting?"
   ]
  },
  {
   "cell_type": "markdown",
   "id": "1e45dda7",
   "metadata": {},
   "source": [
    "## Our answer:"
   ]
  },
  {
   "cell_type": "markdown",
   "id": "0bb8b162",
   "metadata": {},
   "source": [
    "Unsurprisingly ‘Christmas’ and ‘Merry’ are among the words with the largest relative frequency. However, it is more interesting to see that ‘gme’ (referring to the GameStop stocks) is among the top 10. As we know, the GME stock rose exponentially in the month of January 2021 and seeing it high on this relative frequency list can in retrospect be seen as an early sign of this."
   ]
  },
  {
   "cell_type": "markdown",
   "id": "104515a3",
   "metadata": {},
   "source": [
    ">    5. Now, for each token, compute the happiness $h(i) = labMT(i) - 5$, using the labMT dictionary. Here, we subtract $5$, so that positive tokens will have a positive value and negative tokens will have a negative value. Then, compute the product $\\delta \\Phi = h(i)\\cdot \\delta p(i)$. Store the results in a dictionary. "
   ]
  },
  {
   "cell_type": "code",
   "execution_count": 773,
   "id": "e8e4b5ad",
   "metadata": {},
   "outputs": [],
   "source": [
    "labMt_dict = pd.read_csv(\"Hedonometer.csv\")\n",
    "labMt_dict = labMt_dict.set_index(\"Word\")"
   ]
  },
  {
   "cell_type": "code",
   "execution_count": 774,
   "id": "1aea071a",
   "metadata": {},
   "outputs": [],
   "source": [
    "h = dict([(token, labMt_dict[\"Happiness Score\"].get(token,np.nan)-5) for token in all_tokens])"
   ]
  },
  {
   "cell_type": "code",
   "execution_count": 775,
   "id": "16324cf9",
   "metadata": {},
   "outputs": [],
   "source": [
    "dPhi = dict([(token,h[token]*dp[token]) for token in all_tokens if not np.isnan(h[token])])"
   ]
  },
  {
   "cell_type": "markdown",
   "id": "7da45ecf",
   "metadata": {},
   "source": [
    ">    6. Print the top 10 tokens, ordered by the absolute value of $|\\delta \\Phi|$. "
   ]
  },
  {
   "cell_type": "code",
   "execution_count": 776,
   "id": "e00a1fab",
   "metadata": {},
   "outputs": [
    {
     "data": {
      "text/plain": [
       "[('christmas', 0.008127467028085577),\n",
       " ('merry', 0.004369569724620914),\n",
       " ('like', 0.004194351498288418),\n",
       " ('money', 0.0035968481732793003),\n",
       " ('million', -0.0025671135942025463),\n",
       " ('market', -0.0021852411561667723),\n",
       " ('covid', 0.0017071916544546435),\n",
       " ('thanks', 0.0016242306308432003),\n",
       " ('first', 0.001588118759170167),\n",
       " ('rich', 0.001577980653238633)]"
      ]
     },
     "execution_count": 776,
     "metadata": {},
     "output_type": "execute_result"
    }
   ],
   "source": [
    "sorted(dPhi.items(), key = lambda x:np.abs(x[1]), reverse = True)[:10]"
   ]
  },
  {
   "cell_type": "markdown",
   "id": "1803fac8",
   "metadata": {},
   "source": [
    "## Question:"
   ]
  },
  {
   "cell_type": "markdown",
   "id": "562dbcb7",
   "metadata": {},
   "source": [
    " Explain in your own words the meaning of $\\delta \\Phi$"
   ]
  },
  {
   "cell_type": "markdown",
   "id": "36c15ac7",
   "metadata": {},
   "source": [
    "## Our answer:"
   ]
  },
  {
   "cell_type": "markdown",
   "id": "160683d2",
   "metadata": {},
   "source": [
    "$\\delta p$ denotes the change in word occurrences from the prior 7 days compared to the chson day. \n",
    "\n",
    "$h(i)$ denotes the happiness of a given word. \n",
    "\n",
    "As such, $\\delta  \\Phi$ denotes the change in happiness a given word contributes for the final day compared to the prior 7 days - i.e. it denotes the change in impact of the words."
   ]
  },
  {
   "cell_type": "markdown",
   "id": "d33f729e",
   "metadata": {},
   "source": [
    "# Something about the last sentence sounds strange? ^change in impact?"
   ]
  },
  {
   "cell_type": "markdown",
   "id": "6d2844b6",
   "metadata": {},
   "source": [
    ">    7. Now install the [``shifterator``](https://shifterator.readthedocs.io/en/latest/installation.html) Python package. We will use it for plotting Word Shifts. \n",
    ">    8. Use the function ``shifterator.WeightedAvgShift`` to plot the WordShift, showing which words contributed the most to make your day of choice _d_ happier or more sad then days in the preceding 7 days. "
   ]
  },
  {
   "cell_type": "code",
   "execution_count": 777,
   "id": "7ae75572",
   "metadata": {},
   "outputs": [],
   "source": [
    "import shifterator as sh\n",
    "\n"
   ]
  },
  {
   "cell_type": "code",
   "execution_count": 778,
   "id": "8042602b",
   "metadata": {},
   "outputs": [],
   "source": [
    "sentiment_sh = sh.WeightedAvgShift(type2freq_1=p_ref,\n",
    "                    type2freq_2=p,\n",
    "                    type2score_1 = 'labMT_English',\n",
    "                    reference_value=5)"
   ]
  },
  {
   "cell_type": "code",
   "execution_count": 779,
   "id": "2f01ba1e",
   "metadata": {},
   "outputs": [
    {
     "name": "stderr",
     "output_type": "stream",
     "text": [
      "C:\\Users\\rune7\\anaconda3\\lib\\site-packages\\shifterator\\plotting.py:604: UserWarning: FixedFormatter should only be used together with FixedLocator\n",
      "  ax.set_xticklabels(x_ticks, fontsize=plot_params[\"xtick_fontsize\"])\n"
     ]
    },
    {
     "data": {
      "image/png": "[encoded data removed]",
      "text/plain": [
       "<Figure size 504x1080 with 3 Axes>"
      ]
     },
     "metadata": {
      "needs_background": "light"
     },
     "output_type": "display_data"
    },
    {
     "data": {
      "text/plain": [
       "<AxesSubplot:title={'center':'reference: $\\\\Phi_{avg}=$5.65\\nDecember 25th: $\\\\Phi_{avg}=$5.68'}, xlabel='Score shift $\\\\delta \\\\Phi_{\\\\tau}$ (%)', ylabel='Rank'>"
      ]
     },
     "execution_count": 779,
     "metadata": {},
     "output_type": "execute_result"
    }
   ],
   "source": [
    "sentiment_sh.get_shift_graph(detailed= True,\n",
    "                            system_names = ['reference', 'December 25th'])"
   ]
  },
  {
   "cell_type": "markdown",
   "id": "0d2bdd27",
   "metadata": {},
   "source": [
    "## Question:"
   ]
  },
  {
   "cell_type": "markdown",
   "id": "4040d084",
   "metadata": {},
   "source": [
    "Comment on the figure. "
   ]
  },
  {
   "cell_type": "markdown",
   "id": "848766fd",
   "metadata": {},
   "source": [
    "## Our answer:"
   ]
  },
  {
   "cell_type": "markdown",
   "id": "2da2bb5e",
   "metadata": {},
   "source": [
    "The figure shows that words like “christmas”, “merry”, “like” and “money” are positive words that unsurprisingly occurred more often and thereby contributed to December 25th being a date with more positive sentiment than the reference period of 7 days before this date. \n",
    "\n",
    "Interestingly we see that the word “market” is considered a positive word and that it occurred less often, which subtracts from the higher positive sentiment score of December 25th. This is interesting firstly partly because it is revealing of the values of the people whose scoring was used to make the sentiment lexicon (i.e. they are liberal). Secondly, it is interesting because it shows that users on wallstreetbets used the word “market” less on Christmas day. This indicates that they were less focused on the core topic of the subreddit (trading stocks) and instead spent more words on social conversations in wishing each other “Merry Christmas”.\n",
    "\n",
    "There are only minor differences in negative words being used more (“flu”) or less (“debt”) often. As such, it is primarily the difference in usage of positive words that contributed to the 25th of December being a day with more positive sentiment.\n"
   ]
  },
  {
   "cell_type": "markdown",
   "id": "7ea4be09",
   "metadata": {},
   "source": [
    ">    9. How do words that you printed in step 6 relate to those shown by the WordShift? "
   ]
  },
  {
   "cell_type": "markdown",
   "id": "87bb6e01",
   "metadata": {},
   "source": [
    "## Our answer:"
   ]
  },
  {
   "cell_type": "markdown",
   "id": "68e52428",
   "metadata": {},
   "source": [
    "They are basically identical but for the fact that “covid” does not appear in the WordShift but appears in exercise 6. The ordering of the two are also identical.\n",
    "\n",
    "The great similarity makes sense, as the two methods are essentially the same. \n"
   ]
  },
  {
   "cell_type": "code",
   "execution_count": null,
   "id": "a1298464",
   "metadata": {},
   "outputs": [],
   "source": []
  },
  {
   "cell_type": "code",
   "execution_count": null,
   "id": "c01735ca",
   "metadata": {},
   "outputs": [],
   "source": []
  },
  {
   "cell_type": "code",
   "execution_count": null,
   "id": "f56a1790",
   "metadata": {},
   "outputs": [],
   "source": []
  }
 ],
 "metadata": {
  "kernelspec": {
   "display_name": "Python 3 (ipykernel)",
   "language": "python",
   "name": "python3"
  },
  "language_info": {
   "codemirror_mode": {
    "name": "ipython",
    "version": 3
   },
   "file_extension": ".py",
   "mimetype": "text/x-python",
   "name": "python",
   "nbconvert_exporter": "python",
   "pygments_lexer": "ipython3",
   "version": "3.9.7"
  }
 },
 "nbformat": 4,
 "nbformat_minor": 5
}
