{
 "cells": [
  {
   "cell_type": "markdown",
   "metadata": {},
   "source": [
    "# Overview\n",
    "\n",
    "This week we will go back to networks, and we will learn about community detection. \n",
    "The lecture is structured as follows.\n",
    "\n",
    "* __Part 1__: Learn about Community Detection with a lecture from Sune and an exercise related to the famous [Zachary Karate Club Network](https://en.wikipedia.org/wiki/Zachary%27s_karate_club).\n",
    "* __Part 2__: We will learn how to compare different community structures for a network, using _normalized [mutual information](https://en.wikipedia.org/wiki/Mutual_information)_.\n",
    "* __Part 3__: Apply community detection to the GME network.\n"
   ]
  },
  {
   "cell_type": "markdown",
   "metadata": {},
   "source": [
    "# Part 1: Community detection."
   ]
  },
  {
   "cell_type": "markdown",
   "metadata": {},
   "source": [
    "Now that we have learnt about text analysis, it is time to go back to our GME network! We will start by learning about community detection with a lecture from Sune.\n",
    "\n",
    "> **_Video Lecture_**: Communities in networks. \n",
    "\n",
    "You can watch the 2015 video [here](https://youtu.be/06GL_KGHdbE/)"
   ]
  },
  {
   "cell_type": "code",
   "execution_count": 2,
   "metadata": {},
   "outputs": [
    {
     "data": {
      "image/jpeg": "[encoded data removed]",
      "text/html": [
       "\n",
       "        <iframe\n",
       "            width=\"800\"\n",
       "            height=\"450\"\n",
       "            src=\"https://www.youtube.com/embed/FSRoqXw28RI\"\n",
       "            frameborder=\"0\"\n",
       "            allowfullscreen\n",
       "        ></iframe>\n",
       "        "
      ],
      "text/plain": [
       "<IPython.lib.display.YouTubeVideo at 0x7f956c402250>"
      ]
     },
     "execution_count": 2,
     "metadata": {},
     "output_type": "execute_result"
    }
   ],
   "source": [
    "from IPython.display import YouTubeVideo\n",
    "YouTubeVideo(\"FSRoqXw28RI\",width=800, height=450)"
   ]
  },
  {
   "cell_type": "markdown",
   "metadata": {},
   "source": [
    "> **_Reading_**: [Chapter 9 of the NS book.](http://networksciencebook.com/chapter/9). You can skip sections 9.3, 9.5 and 9.7. \n",
    "\n"
   ]
  },
  {
   "cell_type": "markdown",
   "metadata": {},
   "source": [
    "_Exercise 1: Zachary's karate club_: In this exercise, we will work on Zarachy's karate club graph (refer to the Introduction of Chapter 9). The dataset is available in NetworkX, by calling the function [karate_club_graph](https://networkx.org/documentation/stable//auto_examples/graph/plot_karate_club.html) \n",
    "\n",
    "> 1. Visualize the graph using [netwulf](https://netwulf.readthedocs.io/en/latest/). Set the color of each node based on the club split (the information is stored as a node attribute). My version of the visualization is below.\n",
    ">"
   ]
  },
  {
   "cell_type": "code",
   "execution_count": 1,
   "metadata": {},
   "outputs": [],
   "source": [
    "import networkx as nx\n",
    "import netwulf as nw\n",
    "G = nx.karate_club_graph()"
   ]
  },
  {
   "cell_type": "code",
   "execution_count": 2,
   "metadata": {},
   "outputs": [],
   "source": [
    "nx.get_node_attributes(G,\"club\")\n",
    "for k, v in G.nodes(data=True):\n",
    "    v['group'] = v['club']; del v['club']"
   ]
  },
  {
   "cell_type": "code",
   "execution_count": 4,
   "metadata": {
    "scrolled": true
   },
   "outputs": [
    {
     "data": {
      "text/plain": [
       "({'xlim': [0, 680],\n",
       "  'ylim': [0, 680],\n",
       "  'linkColor': '#7c7c7c',\n",
       "  'linkAlpha': 0.5,\n",
       "  'nodeStrokeColor': '#555555',\n",
       "  'nodeStrokeWidth': 2.191446985059157,\n",
       "  'links': [{'source': 0,\n",
       "    'target': 1,\n",
       "    'width': 4.382893970118314,\n",
       "    'weight': 1},\n",
       "   {'source': 0, 'target': 2, 'width': 4.382893970118314, 'weight': 1},\n",
       "   {'source': 0, 'target': 3, 'width': 4.382893970118314, 'weight': 1},\n",
       "   {'source': 0, 'target': 4, 'width': 4.382893970118314, 'weight': 1},\n",
       "   {'source': 0, 'target': 5, 'width': 4.382893970118314, 'weight': 1},\n",
       "   {'source': 0, 'target': 6, 'width': 4.382893970118314, 'weight': 1},\n",
       "   {'source': 0, 'target': 7, 'width': 4.382893970118314, 'weight': 1},\n",
       "   {'source': 0, 'target': 8, 'width': 4.382893970118314, 'weight': 1},\n",
       "   {'source': 0, 'target': 10, 'width': 4.382893970118314, 'weight': 1},\n",
       "   {'source': 0, 'target': 11, 'width': 4.382893970118314, 'weight': 1},\n",
       "   {'source': 0, 'target': 12, 'width': 4.382893970118314, 'weight': 1},\n",
       "   {'source': 0, 'target': 13, 'width': 4.382893970118314, 'weight': 1},\n",
       "   {'source': 0, 'target': 17, 'width': 4.382893970118314, 'weight': 1},\n",
       "   {'source': 0, 'target': 19, 'width': 4.382893970118314, 'weight': 1},\n",
       "   {'source': 0, 'target': 21, 'width': 4.382893970118314, 'weight': 1},\n",
       "   {'source': 0, 'target': 31, 'width': 4.382893970118314, 'weight': 1},\n",
       "   {'source': 1, 'target': 2, 'width': 4.382893970118314, 'weight': 1},\n",
       "   {'source': 1, 'target': 3, 'width': 4.382893970118314, 'weight': 1},\n",
       "   {'source': 1, 'target': 7, 'width': 4.382893970118314, 'weight': 1},\n",
       "   {'source': 1, 'target': 13, 'width': 4.382893970118314, 'weight': 1},\n",
       "   {'source': 1, 'target': 17, 'width': 4.382893970118314, 'weight': 1},\n",
       "   {'source': 1, 'target': 19, 'width': 4.382893970118314, 'weight': 1},\n",
       "   {'source': 1, 'target': 21, 'width': 4.382893970118314, 'weight': 1},\n",
       "   {'source': 1, 'target': 30, 'width': 4.382893970118314, 'weight': 1},\n",
       "   {'source': 2, 'target': 3, 'width': 4.382893970118314, 'weight': 1},\n",
       "   {'source': 2, 'target': 7, 'width': 4.382893970118314, 'weight': 1},\n",
       "   {'source': 2, 'target': 8, 'width': 4.382893970118314, 'weight': 1},\n",
       "   {'source': 2, 'target': 9, 'width': 4.382893970118314, 'weight': 1},\n",
       "   {'source': 2, 'target': 13, 'width': 4.382893970118314, 'weight': 1},\n",
       "   {'source': 2, 'target': 27, 'width': 4.382893970118314, 'weight': 1},\n",
       "   {'source': 2, 'target': 28, 'width': 4.382893970118314, 'weight': 1},\n",
       "   {'source': 2, 'target': 32, 'width': 4.382893970118314, 'weight': 1},\n",
       "   {'source': 3, 'target': 7, 'width': 4.382893970118314, 'weight': 1},\n",
       "   {'source': 3, 'target': 12, 'width': 4.382893970118314, 'weight': 1},\n",
       "   {'source': 3, 'target': 13, 'width': 4.382893970118314, 'weight': 1},\n",
       "   {'source': 4, 'target': 6, 'width': 4.382893970118314, 'weight': 1},\n",
       "   {'source': 4, 'target': 10, 'width': 4.382893970118314, 'weight': 1},\n",
       "   {'source': 5, 'target': 6, 'width': 4.382893970118314, 'weight': 1},\n",
       "   {'source': 5, 'target': 10, 'width': 4.382893970118314, 'weight': 1},\n",
       "   {'source': 5, 'target': 16, 'width': 4.382893970118314, 'weight': 1},\n",
       "   {'source': 6, 'target': 16, 'width': 4.382893970118314, 'weight': 1},\n",
       "   {'source': 8, 'target': 30, 'width': 4.382893970118314, 'weight': 1},\n",
       "   {'source': 8, 'target': 32, 'width': 4.382893970118314, 'weight': 1},\n",
       "   {'source': 8, 'target': 33, 'width': 4.382893970118314, 'weight': 1},\n",
       "   {'source': 9, 'target': 33, 'width': 4.382893970118314, 'weight': 1},\n",
       "   {'source': 13, 'target': 33, 'width': 4.382893970118314, 'weight': 1},\n",
       "   {'source': 14, 'target': 32, 'width': 4.382893970118314, 'weight': 1},\n",
       "   {'source': 14, 'target': 33, 'width': 4.382893970118314, 'weight': 1},\n",
       "   {'source': 15, 'target': 32, 'width': 4.382893970118314, 'weight': 1},\n",
       "   {'source': 15, 'target': 33, 'width': 4.382893970118314, 'weight': 1},\n",
       "   {'source': 18, 'target': 32, 'width': 4.382893970118314, 'weight': 1},\n",
       "   {'source': 18, 'target': 33, 'width': 4.382893970118314, 'weight': 1},\n",
       "   {'source': 19, 'target': 33, 'width': 4.382893970118314, 'weight': 1},\n",
       "   {'source': 20, 'target': 32, 'width': 4.382893970118314, 'weight': 1},\n",
       "   {'source': 20, 'target': 33, 'width': 4.382893970118314, 'weight': 1},\n",
       "   {'source': 22, 'target': 32, 'width': 4.382893970118314, 'weight': 1},\n",
       "   {'source': 22, 'target': 33, 'width': 4.382893970118314, 'weight': 1},\n",
       "   {'source': 23, 'target': 25, 'width': 4.382893970118314, 'weight': 1},\n",
       "   {'source': 23, 'target': 27, 'width': 4.382893970118314, 'weight': 1},\n",
       "   {'source': 23, 'target': 29, 'width': 4.382893970118314, 'weight': 1},\n",
       "   {'source': 23, 'target': 32, 'width': 4.382893970118314, 'weight': 1},\n",
       "   {'source': 23, 'target': 33, 'width': 4.382893970118314, 'weight': 1},\n",
       "   {'source': 24, 'target': 25, 'width': 4.382893970118314, 'weight': 1},\n",
       "   {'source': 24, 'target': 27, 'width': 4.382893970118314, 'weight': 1},\n",
       "   {'source': 24, 'target': 31, 'width': 4.382893970118314, 'weight': 1},\n",
       "   {'source': 25, 'target': 31, 'width': 4.382893970118314, 'weight': 1},\n",
       "   {'source': 26, 'target': 29, 'width': 4.382893970118314, 'weight': 1},\n",
       "   {'source': 26, 'target': 33, 'width': 4.382893970118314, 'weight': 1},\n",
       "   {'source': 27, 'target': 33, 'width': 4.382893970118314, 'weight': 1},\n",
       "   {'source': 28, 'target': 31, 'width': 4.382893970118314, 'weight': 1},\n",
       "   {'source': 28, 'target': 33, 'width': 4.382893970118314, 'weight': 1},\n",
       "   {'source': 29, 'target': 32, 'width': 4.382893970118314, 'weight': 1},\n",
       "   {'source': 29, 'target': 33, 'width': 4.382893970118314, 'weight': 1},\n",
       "   {'source': 30, 'target': 32, 'width': 4.382893970118314, 'weight': 1},\n",
       "   {'source': 30, 'target': 33, 'width': 4.382893970118314, 'weight': 1},\n",
       "   {'source': 31, 'target': 32, 'width': 4.382893970118314, 'weight': 1},\n",
       "   {'source': 31, 'target': 33, 'width': 4.382893970118314, 'weight': 1},\n",
       "   {'source': 32, 'target': 33, 'width': 4.382893970118314, 'weight': 1}],\n",
       "  'nodes': [{'id': 0,\n",
       "    'x': 361.9193032572944,\n",
       "    'y': 378.74272577073174,\n",
       "    'x_canvas': 414.1506788182958,\n",
       "    'y_canvas': 471.06253339575574,\n",
       "    'radius': 16.91446985059157,\n",
       "    'color': '#1f2153'},\n",
       "   {'id': 1,\n",
       "    'x': 307.3779769462225,\n",
       "    'y': 389.8858592081819,\n",
       "    'x_canvas': 229.64315491831553,\n",
       "    'y_canvas': 508.75857230952965,\n",
       "    'radius': 16.91446985059157,\n",
       "    'color': '#1f2153'},\n",
       "   {'id': 2,\n",
       "    'x': 346.825683076753,\n",
       "    'y': 347.10275356720666,\n",
       "    'x_canvas': 363.0905621222864,\n",
       "    'y_canvas': 364.0278622137398,\n",
       "    'radius': 16.91446985059157,\n",
       "    'color': '#1f2153'},\n",
       "   {'id': 3,\n",
       "    'x': 323.37692257347317,\n",
       "    'y': 403.80872432197395,\n",
       "    'x_canvas': 283.76589160899243,\n",
       "    'y_canvas': 555.8581487497474,\n",
       "    'radius': 16.91446985059157,\n",
       "    'color': '#1f2153'},\n",
       "   {'id': 4,\n",
       "    'x': 391.0868741235577,\n",
       "    'y': 386.898644835554,\n",
       "    'x_canvas': 512.8214784247766,\n",
       "    'y_canvas': 498.6531428209162,\n",
       "    'radius': 16.91446985059157,\n",
       "    'color': '#1f2153'},\n",
       "   {'id': 5,\n",
       "    'x': 412.275302504944,\n",
       "    'y': 371.49797819453545,\n",
       "    'x_canvas': 584.4996850324521,\n",
       "    'y_canvas': 446.554320505212,\n",
       "    'radius': 16.91446985059157,\n",
       "    'color': '#1f2153'},\n",
       "   {'id': 6,\n",
       "    'x': 406.3559729684322,\n",
       "    'y': 397.0023475687391,\n",
       "    'x_canvas': 564.4752208362431,\n",
       "    'y_canvas': 532.8328978728757,\n",
       "    'radius': 16.91446985059157,\n",
       "    'color': '#1f2153'},\n",
       "   {'id': 7,\n",
       "    'x': 332.11738712797427,\n",
       "    'y': 383.0288899858565,\n",
       "    'x_canvas': 313.33395644644725,\n",
       "    'y_canvas': 485.56217247403833,\n",
       "    'radius': 16.91446985059157,\n",
       "    'color': '#1f2153'},\n",
       "   {'id': 8,\n",
       "    'x': 321.83145084754085,\n",
       "    'y': 342.1796965236897,\n",
       "    'x_canvas': 278.53772462634765,\n",
       "    'y_canvas': 347.37368222667783,\n",
       "    'radius': 16.91446985059157,\n",
       "    'color': '#1f2153'},\n",
       "   {'id': 9,\n",
       "    'x': 338.6925196634677,\n",
       "    'y': 323.7495677551914,\n",
       "    'x_canvas': 335.57693265349644,\n",
       "    'y_canvas': 285.02651074722075,\n",
       "    'radius': 16.91446985059157,\n",
       "    'color': '#687b59'},\n",
       "   {'id': 10,\n",
       "    'x': 396.8507727525408,\n",
       "    'y': 360.0547902598784,\n",
       "    'x_canvas': 532.320136341137,\n",
       "    'y_canvas': 407.84322904213013,\n",
       "    'radius': 16.91446985059157,\n",
       "    'color': '#1f2153'},\n",
       "   {'id': 11,\n",
       "    'x': 378.7386718032932,\n",
       "    'y': 368.3188365461568,\n",
       "    'x_canvas': 471.048819253753,\n",
       "    'y_canvas': 435.79962139275995,\n",
       "    'radius': 16.91446985059157,\n",
       "    'color': '#1f2153'},\n",
       "   {'id': 12,\n",
       "    'x': 355.32454073965573,\n",
       "    'y': 410.45803038055607,\n",
       "    'x_canvas': 391.8412964630138,\n",
       "    'y_canvas': 578.3520461207961,\n",
       "    'radius': 16.91446985059157,\n",
       "    'color': '#1f2153'},\n",
       "   {'id': 13,\n",
       "    'x': 333.91311816566713,\n",
       "    'y': 365.0710044244466,\n",
       "    'x_canvas': 319.4087241458126,\n",
       "    'y_canvas': 424.81254969226984,\n",
       "    'radius': 16.91446985059157,\n",
       "    'color': '#1f2153'},\n",
       "   {'id': 14,\n",
       "    'x': 284.85291889901765,\n",
       "    'y': 318.77811501509245,\n",
       "    'x_canvas': 153.44327187386125,\n",
       "    'y_canvas': 268.2086132500119,\n",
       "    'radius': 16.91446985059157,\n",
       "    'color': '#687b59'},\n",
       "   {'id': 15,\n",
       "    'x': 309.0884991126839,\n",
       "    'y': 289.7786463344747,\n",
       "    'x_canvas': 235.4296700409916,\n",
       "    'y_canvas': 170.10648551371503,\n",
       "    'radius': 16.91446985059157,\n",
       "    'color': '#687b59'},\n",
       "   {'id': 16,\n",
       "    'x': 430.5688710822668,\n",
       "    'y': 385.23893116509356,\n",
       "    'x_canvas': 646.3848878646234,\n",
       "    'y_canvas': 493.03850745299246,\n",
       "    'radius': 16.91446985059157,\n",
       "    'color': '#1f2153'},\n",
       "   {'id': 17,\n",
       "    'x': 336.7121471570434,\n",
       "    'y': 407.1532436340637,\n",
       "    'x_canvas': 328.8775424429257,\n",
       "    'y_canvas': 567.1723029635602,\n",
       "    'radius': 16.91446985059157,\n",
       "    'color': '#1f2153'},\n",
       "   {'id': 18,\n",
       "    'x': 293.71419576301656,\n",
       "    'y': 297.123981123802,\n",
       "    'x_canvas': 183.420031944632,\n",
       "    'y_canvas': 194.9549742810309,\n",
       "    'radius': 16.91446985059157,\n",
       "    'color': '#687b59'},\n",
       "   {'id': 19,\n",
       "    'x': 319.5459931695706,\n",
       "    'y': 360.64484118839846,\n",
       "    'x_canvas': 270.8062636285815,\n",
       "    'y_canvas': 409.8393087702834,\n",
       "    'radius': 16.91446985059157,\n",
       "    'color': '#1f2153'},\n",
       "   {'id': 20,\n",
       "    'x': 283.4810071148952,\n",
       "    'y': 305.95055700497323,\n",
       "    'x_canvas': 148.80223977181902,\n",
       "    'y_canvas': 224.81434460623677,\n",
       "    'radius': 16.91446985059157,\n",
       "    'color': '#687b59'},\n",
       "   {'id': 21,\n",
       "    'x': 339.106638007705,\n",
       "    'y': 395.03098323051984,\n",
       "    'x_canvas': 336.9778511031325,\n",
       "    'y_canvas': 526.1639813402076,\n",
       "    'radius': 16.91446985059157,\n",
       "    'color': '#1f2153'},\n",
       "   {'id': 22,\n",
       "    'x': 295.04211688668465,\n",
       "    'y': 327.5249135518006,\n",
       "    'x_canvas': 187.91224830668148,\n",
       "    'y_canvas': 297.79810527768154,\n",
       "    'radius': 16.91446985059157,\n",
       "    'color': '#687b59'},\n",
       "   {'id': 23,\n",
       "    'x': 329.8849648534428,\n",
       "    'y': 270.15906993460203,\n",
       "    'x_canvas': 305.7819085951769,\n",
       "    'y_canvas': 103.73553881431042,\n",
       "    'radius': 16.91446985059157,\n",
       "    'color': '#687b59'},\n",
       "   {'id': 24,\n",
       "    'x': 381.82342085790697,\n",
       "    'y': 277.0170238744202,\n",
       "    'x_canvas': 481.484198229934,\n",
       "    'y_canvas': 126.9352698446703,\n",
       "    'radius': 16.91446985059157,\n",
       "    'color': '#687b59'},\n",
       "   {'id': 25,\n",
       "    'x': 363.03622044092685,\n",
       "    'y': 264.2807295157592,\n",
       "    'x_canvas': 417.92909122392757,\n",
       "    'y_canvas': 83.84973645710431,\n",
       "    'radius': 16.91446985059157,\n",
       "    'color': '#687b59'},\n",
       "   {'id': 26,\n",
       "    'x': 290.2915919834379,\n",
       "    'y': 279.66630052555075,\n",
       "    'x_canvas': 171.8417262565912,\n",
       "    'y_canvas': 135.89749185295523,\n",
       "    'radius': 16.91446985059157,\n",
       "    'color': '#687b59'},\n",
       "   {'id': 27,\n",
       "    'x': 350.77962944180877,\n",
       "    'y': 291.3623483218571,\n",
       "    'x_canvas': 376.46634343880487,\n",
       "    'y_canvas': 175.46398141729549,\n",
       "    'radius': 16.91446985059157,\n",
       "    'color': '#687b59'},\n",
       "   {'id': 28,\n",
       "    'x': 352.732651947808,\n",
       "    'y': 315.757766965455,\n",
       "    'x_canvas': 383.073211497855,\n",
       "    'y_canvas': 257.9910960452348,\n",
       "    'radius': 16.91446985059157,\n",
       "    'color': '#687b59'},\n",
       "   {'id': 29,\n",
       "    'x': 305.38589356376605,\n",
       "    'y': 270.71992329885796,\n",
       "    'x_canvas': 222.90414805583055,\n",
       "    'y_canvas': 105.63284627837231,\n",
       "    'radius': 16.91446985059157,\n",
       "    'color': '#687b59'},\n",
       "   {'id': 30,\n",
       "    'x': 292.47232685099857,\n",
       "    'y': 349.42784346824567,\n",
       "    'x_canvas': 179.21892109048906,\n",
       "    'y_canvas': 371.8933948199476,\n",
       "    'radius': 16.91446985059157,\n",
       "    'color': '#687b59'},\n",
       "   {'id': 31,\n",
       "    'x': 366.86176894693307,\n",
       "    'y': 305.68255123166733,\n",
       "    'x_canvas': 430.8705161972912,\n",
       "    'y_canvas': 223.9077094917634,\n",
       "    'radius': 16.91446985059157,\n",
       "    'color': '#687b59'},\n",
       "   {'id': 32,\n",
       "    'x': 307.2848632513006,\n",
       "    'y': 312.73240457590146,\n",
       "    'x_canvas': 229.32816116122876,\n",
       "    'y_canvas': 247.75661586019146,\n",
       "    'radius': 16.91446985059157,\n",
       "    'color': '#687b59'},\n",
       "   {'id': 33,\n",
       "    'x': 320.64778439019443,\n",
       "    'y': 308.1699767482739,\n",
       "    'x_canvas': 274.53350650515927,\n",
       "    'y_canvas': 232.32240627301007,\n",
       "    'radius': 16.91446985059157,\n",
       "    'color': '#687b59'}]},\n",
       " {'zoom': 2.191446985059157,\n",
       "  'node_charge': -45,\n",
       "  'node_gravity': 0.1,\n",
       "  'link_distance': 15,\n",
       "  'link_distance_variation': 0,\n",
       "  'node_collision': True,\n",
       "  'wiggle_nodes': False,\n",
       "  'freeze_nodes': False,\n",
       "  'node_fill_color': '#0a1815',\n",
       "  'node_stroke_color': '#555555',\n",
       "  'node_label_color': '#74ff7a',\n",
       "  'display_node_labels': True,\n",
       "  'scale_node_size_by_strength': False,\n",
       "  'node_size': 5,\n",
       "  'node_stroke_width': 1,\n",
       "  'node_size_variation': 0.5,\n",
       "  'link_color': '#7c7c7c',\n",
       "  'link_width': 2,\n",
       "  'link_alpha': 0.5,\n",
       "  'link_width_variation': 0.5,\n",
       "  'display_singleton_nodes': True,\n",
       "  'min_link_weight_percentile': 0,\n",
       "  'max_link_weight_percentile': 1})"
      ]
     },
     "execution_count": 4,
     "metadata": {},
     "output_type": "execute_result"
    },
    {
     "data": {
      "image/png": "[encoded data removed]",
      "text/plain": [
       "<Figure size 288x288 with 1 Axes>"
      ]
     },
     "metadata": {
      "needs_background": "light"
     },
     "output_type": "display_data"
    }
   ],
   "source": [
    "\n",
    "nw.visualize(G)"
   ]
  },
  {
   "cell_type": "markdown",
   "metadata": {},
   "source": [
    "# ADD A PUBLIC LINK TO THE IMAGE"
   ]
  },
  {
   "cell_type": "markdown",
   "metadata": {},
   "source": [
    "> 2. Write a function to compute the __modularity__ of a graph partitioning (use **equation 9.12** in the book). The function should take a networkX Graph and a partitioning as inputs and return the modularity."
   ]
  },
  {
   "cell_type": "markdown",
   "metadata": {},
   "source": [
    "$$M = \\sum_{c=1}^{n_{c}} \\Bigg(\\frac{L_{c}}{L} -\\bigg(\\frac{k_{c}}{2 \\cdot L}\\bigg)^{2}\\Bigg) $$"
   ]
  },
  {
   "cell_type": "markdown",
   "metadata": {},
   "source": [
    "$L_c$ = Total number of links withink a community $c$.\n",
    "\n",
    "$k_c$ = Total degree of the nodes in a community $c$\n",
    "\n",
    "$L$ = Total number of links/edges in the network"
   ]
  },
  {
   "cell_type": "code",
   "execution_count": 33,
   "metadata": {},
   "outputs": [],
   "source": [
    "def modularity(G, community_partitions):\n",
    "    \n",
    "    #assert len(list(G.nodes)) == len(np.array(community_partitions).flatten()), \"All nodes aren't in a group\"\n",
    "    \n",
    "    # Assuming undirected graph\n",
    "    degree_dict = dict(G.degree())\n",
    "    L = sum(degree_dict.values())/2\n",
    "    div = 1/(2*L)**2\n",
    "    \n",
    "    def community_term(community):\n",
    "        k_c = sum([degree_dict[node] for node in community])\n",
    "        L_c = sum([1 for u, v in G.edges(community) if v in community])\n",
    "        return L_c/L - k_c**2 * div\n",
    "\n",
    "    return sum(map(community_term, community_partitions))\n",
    "# Create group partitions\n",
    "import numpy as np\n",
    "groups = np.unique(list(nx.get_node_attributes(G,'group').values()))\n",
    "partitions = {g: [] for g in groups}\n",
    "\n",
    "for node, group in nx.get_node_attributes(G,'group').items():\n",
    "    partitions[group].append(node)\n",
    "\n"
   ]
  },
  {
   "cell_type": "markdown",
   "metadata": {},
   "source": [
    "> 3. Explain in your own words the concept of _modularity_. "
   ]
  },
  {
   "cell_type": "markdown",
   "metadata": {},
   "source": [
    "The modularity describes whether the network is more inter or outer connected, since if the network has as many ingoing connections to the group as outgoing then $k_c = L_c \\cdot 2$ and M = 0. If M is positive it is because it is more interconnected than outer connected.\n",
    "Thus M can somewhat be seen as a relative density measure, where the relativeness is rooted in the group connections contra the outer connections."
   ]
  },
  {
   "cell_type": "markdown",
   "metadata": {},
   "source": [
    "> 4. Compute the modularity of the Karate club split partitioning using the function you just wrote. Note: the Karate club split partitioning is avilable as a [node attribute](https://networkx.org/documentation/networkx-1.10/reference/generated/networkx.classes.function.get_node_attributes.html), called _\"club\"_."
   ]
  },
  {
   "cell_type": "code",
   "execution_count": 40,
   "metadata": {},
   "outputs": [
    {
     "name": "stdout",
     "output_type": "stream",
     "text": [
      "The modularity is: 0.35823\n"
     ]
    }
   ],
   "source": [
    "print(f\"The modularity is: {modularity(G,list(partitions.values())):.5f}\")"
   ]
  },
  {
   "cell_type": "markdown",
   "metadata": {},
   "source": [
    "> 5. We will now perform a small randomization experiment to assess if the modularity you just computed is statitically different from $0$. To do so, we will implement the _double edge swap_ algorithm. The _double edge swap_ algorithm is quite old... it was implemented in 1891 (!) by Danish mathematician Julius Petersen(https://en.wikipedia.org/wiki/Julius_Petersen). Given a network G, this algorithm creates a new network, such that each node has exactly the same degree as in the original network, but different connections. Here is how the algorithm works.\n",
    ">       * __a.__ Create an identical copy of your original network.\n",
    ">       * __b.__ Consider two edges in your new network (u,v) and (x,y), such that u!=v and v!=x.\n",
    ">       * __c.__ If none of edges (u,y) and (x,v) exists already, add them to the network and remove edges (u,v) and (x,y).\n",
    ">       * Repeat steps __b.__ and __c.__ to achieve at least N swaps (I suggest N to be larger than the number of edges)."
   ]
  },
  {
   "cell_type": "code",
   "execution_count": null,
   "metadata": {},
   "outputs": [],
   "source": []
  },
  {
   "cell_type": "markdown",
   "metadata": {},
   "source": [
    "> 6. Double check that your algorithm works well, by showing that the degree of nodes in the original network and the new 'randomized' version of the network are the same."
   ]
  },
  {
   "cell_type": "code",
   "execution_count": null,
   "metadata": {},
   "outputs": [],
   "source": []
  },
  {
   "cell_type": "markdown",
   "metadata": {},
   "source": [
    "> 7. Create $1000$ randomized version of the Karate Club network using the _double edge swap_ algorithm you wrote in step 5. For each of them, compute the modularity of the \"club\" split and store it in a list."
   ]
  },
  {
   "cell_type": "code",
   "execution_count": null,
   "metadata": {},
   "outputs": [],
   "source": []
  },
  {
   "cell_type": "markdown",
   "metadata": {},
   "source": [
    "> 8. Compute the average and standard deviation of the modularity for the random network."
   ]
  },
  {
   "cell_type": "code",
   "execution_count": null,
   "metadata": {},
   "outputs": [],
   "source": []
  },
  {
   "cell_type": "markdown",
   "metadata": {},
   "source": [
    "> 9. Plot the distribution of the \"random\" modularity. Plot the actual modularity of the club split as a vertical line (use [axvline](https://matplotlib.org/stable/api/_as_gen/matplotlib.pyplot.axvline.html)). "
   ]
  },
  {
   "cell_type": "code",
   "execution_count": null,
   "metadata": {},
   "outputs": [],
   "source": []
  },
  {
   "cell_type": "markdown",
   "metadata": {},
   "source": [
    "> 10. Comment on the figure. Is the club split a good partitioning? Why do you think I asked you to perform a randomization experiment? What is the reason why we preserved the nodes degree?"
   ]
  },
  {
   "cell_type": "code",
   "execution_count": null,
   "metadata": {},
   "outputs": [],
   "source": []
  },
  {
   "cell_type": "markdown",
   "metadata": {},
   "source": [
    "> 11.  Use [the Python Louvain-algorithm implementation](https://anaconda.org/auto/python-louvain) to find communities in this graph. Report the value of modularity found by the algorithm. Is it higher or lower than what you found above for the club split? What does this comparison reveal?"
   ]
  },
  {
   "cell_type": "code",
   "execution_count": null,
   "metadata": {},
   "outputs": [],
   "source": []
  },
  {
   "cell_type": "markdown",
   "metadata": {},
   "source": [
    "> 12.  Compare the communities found by the Louvain algorithm with the club split partitioning by creating a matrix **_D_** with dimension (2 times _A_), where _A_ is the number of communities found by Louvain. We set entry _D_(_i_,_j_) to be the number of nodes that community _i_ has in common with group split _j_. The matrix **_D_** is what we call a [**confusion matrix**](https://en.wikipedia.org/wiki/Confusion_matrix). Use the confusion matrix to explain how well the communities you've detected correspond to the club split partitioning."
   ]
  },
  {
   "cell_type": "markdown",
   "metadata": {},
   "source": [
    "<img src=\"https://github.com/lalessan/comsocsci2021/raw/master/files/karate.png\" alt=\"Drawing\" style=\"width: 800px;\"/>"
   ]
  },
  {
   "cell_type": "markdown",
   "metadata": {},
   "source": [
    "# Part 2: Comparing partitions"
   ]
  },
  {
   "cell_type": "markdown",
   "metadata": {},
   "source": [
    "[Section 9.6](http://networksciencebook.com/chapter/9#testing) of the Network Science book dicusses how to test the accuracy of community detection algorithms on networks with predefined community structure. This involves measuring the similarity between the predefined structure and the communities identified by a given community detection algorithm. There are many ways for comparing partitions (for an extensive review, see [this article](http://staff.ustc.edu.cn/~zwp/teach/MVA/cluster_validation.pdf)). The book introduces the widely used _normalized mutual information_ (eq. 9.19). We are going to learn more about it and implemement it!"
   ]
  },
  {
   "cell_type": "markdown",
   "metadata": {},
   "source": [
    "First, let's dig a bit deeper into the definition of __Mutual Information__ between two discrete variables $X$ and $Y$. \n",
    "\n",
    "The mutual information is the reduction in uncertainty about variable $X$, After observing a second random variable $Y$. It is measured as the difference between the entropy of $X$, $H(X)$ (which measures its uncertainty), and the conditional entropy of $X$ given $Y$, $H(X|Y)$ (which measures the uncertainty about $X$ after observing $Y$).\n",
    "\n",
    "$I(X;Y)=H(X)−H(X|Y)$\n",
    "\n",
    "If you are not familiar with the concepts of entropy and conditional entropy, or have any doubt about the definition of mutual information, I suggest to carefully read [this page](http://www.scholarpedia.org/article/Mutual_information). If you are someone who learns by doing, the next exercise should help!"
   ]
  },
  {
   "cell_type": "markdown",
   "metadata": {},
   "source": [
    "_Exercise 2: Mutual Information:_ In the exercise above, we computed the confusion matrix to compare the communities found by the Louvain method with the \"club\" split. In this exercise, we will compare the two using the Normalized Mutual Information (see eq. 9.19 in your Network Science Book).\n",
    "\n",
    "> 1. Write a function that, given as input a list of discrete items, returns a dictionary containing the probability of each unique value in the list. For example, given as input the list $[ 1,1,0,1,2]$, the function should return the following dictionary $\\{1:0.6,0:0.2,2:0.2\\}$.\n",
    "> 2. Loop through the nodes of your Zachary Karate Club network. For each node, find the corresponding club (either _\"Mr Hi\"_ or _\"Officer\"_) and store it in a list $l_1$. Compute the probability $p(x)$ of each club $x$ using the function you computed above. \n",
    "> 3. Loop again through the nodes of your Zachary Karate Club (in the same order as you did in step 1.). For each node, find the corresponding Louvain community, and store it in a list $l_2$. Compute the probability $p(y)$ for each Louvain community $y$ using your function. \n",
    "> 4. Loop again through the nodes of your Zachary Karate Club (in the same order!). This time, build a list of tuples $l_3$, such that the first value in the tuple is club and the second is the Louvain community. Compute the probability $p(x,y)$ for each tuple $(x,y)$ in your list using the function you wrote in step 1.. \n",
    "> 5. Compute the Shannon entropy of the Karate Club split. Remember that the entropy of a variable $X$ is defined as $H(X) = -\\sum_x p(x)log(p(x))$. Here the sum runs over the two clubs: _\"Mr Hi\"_ and _\"Officer\"_. You need the probabilities you computed in step 2.\n",
    "> 6. Compute the entropy of the Louvain community partitioning $H(Y) = -\\sum_x p(y)log(p(y))$. Here the sum runs over the communities found by the Louvain method. You need the probabilities you computed in step 3.\n",
    "> 7. Compute the conditional entropy $H(X|Y) = - \\sum_{x,y} p(x,y)\\cdot log \\frac{p(x,y)}{p(y)}$, where the sum runs over all possible combinations of clubs and communities. You need the probabilities you computed in steps 2. and 4.\n",
    "> 8. Now, compute the mutual information $I(X;Y) = H(X) - H(X|Y)$. Compare your result with the results you would obtain applying the scikit-learn function [mutual_info_score](https://scikit-learn.org/stable/modules/generated/sklearn.metrics.mutual_info_score.html). You should pass the lists $l_1$ and $l_2$ as inputs to your function.\n",
    "> 9. Compute the normalized mutual score: $I_n(X;Y) = \\frac{I(X;Y)}{\\frac{1}{2}H(X) + \\frac{1}{2}H(Y)}$.Compare your result with the results you would obtain applying the scikit-learn function [normalized_mutual_info_score](https://scikit-learn.org/stable/modules/generated/sklearn.metrics.normalized_mutual_info_score.html). \n",
    "> 10. What is the point of normalizing the mutual information through dividing it by ${\\frac{1}{2}H(X) + \\frac{1}{2}H(Y)}$?\n",
    "> 11. We will now perform another randomization test. Shuffle the club split node labels (e.g assign a new group to each node, but keep the size of the \"Officer\" and \"Mr Hi\" groups constant). Measure the _normalized mutual information_ with the Louvain communities using the procedure above. Repeat the procedure $1000$ times and plot the distribution of the \"random\" _normalized mutual information_.\n",
    "> 12. Based on your analysis, what can you conclude about the similarity of the Louvain communities and the actual club split? Why do you think I asked you to run a randomization test?"
   ]
  },
  {
   "cell_type": "markdown",
   "metadata": {},
   "source": [
    "# Part 3: communities in the GME network."
   ]
  },
  {
   "cell_type": "markdown",
   "metadata": {},
   "source": [
    "Finally, lets' apply community detection to our favourite network: the GME network. In the following, consider the undirected version of the graph."
   ]
  },
  {
   "cell_type": "markdown",
   "metadata": {},
   "source": [
    "> _Exercise 3_: Community detection on the GME network. \n",
    "> * Consider the GME network you built in [Week 3](https://github.com/lalessan/comsocsci2022/blob/main/lectures/Week3.ipynb), part 3.\n",
    "> * Use [the Python Louvain-algorithm implementation](https://anaconda.org/auto/python-louvain) to find communities. How many communities do you find? What are their sizes? Report the value of modularity found by the algorithm. Is the modularity significantly different than 0? \n",
    "> * If you are curious, you can also try the *Infomap* algorithm. Go to [this page]. (https://mapequation.github.io/infomap/python/). It's harder to install, but a better community detection algorithm. You can read about it in [advanced topics 9B](http://networksciencebook.com/chapter/9#advanced-9b).\n",
    "> * Visualize the network, using netwulf (see Week 4). This time assign each node a different color based on their _community_. Describe the structure you observe.\n",
    "\n",
    "> _Exercise 4_ (*Optional*): Understanding communities using text analysis. \n",
    "> \n",
    "> * We want to find out which words are important for each community, so we're going to create N large documents, where N is the number of communities you have found in exercise 9. Tokenize the submissions, and combine the tokens into one long list including all the posts submitted by the members of the same community. \n",
    "> * Compute the TF-IDF for each community. \n",
    "> * Create a word-cloud for each community. Do they help interpreting the communities you have found?"
   ]
  },
  {
   "cell_type": "code",
   "execution_count": null,
   "metadata": {},
   "outputs": [],
   "source": []
  }
 ],
 "metadata": {
  "kernelspec": {
   "display_name": "Python 3",
   "language": "python",
   "name": "python3"
  },
  "language_info": {
   "codemirror_mode": {
    "name": "ipython",
    "version": 3
   },
   "file_extension": ".py",
   "mimetype": "text/x-python",
   "name": "python",
   "nbconvert_exporter": "python",
   "pygments_lexer": "ipython3",
   "version": "3.8.10"
  }
 },
 "nbformat": 4,
 "nbformat_minor": 2
}
